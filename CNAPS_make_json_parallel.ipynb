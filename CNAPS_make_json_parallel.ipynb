{
 "cells": [
  {
   "cell_type": "markdown",
   "id": "5b86af71-052b-4081-844b-779db459068d",
   "metadata": {},
   "source": [
    "# CNAPS RerenceFileSystem JSON \n",
    "Create ReferenceFileSystem JSON file for a collection of COAWST NetCDF files on S3 "
   ]
  },
  {
   "cell_type": "code",
   "execution_count": null,
   "id": "3b6ba617-9772-4ecf-aa7a-2be2a4bcfa1d",
   "metadata": {
    "tags": []
   },
   "outputs": [],
   "source": [
    "import os\n",
    "import fsspec\n",
    "import ujson   # fast json\n",
    "from kerchunk.hdf import SingleHdf5ToZarr \n",
    "from kerchunk.combine import MultiZarrToZarr, auto_dask, JustLoad\n",
    "from pathlib import Path\n",
    "import xarray as xr\n",
    "import cf_xarray\n",
    "import dask\n",
    "import hvplot.xarray"
   ]
  },
  {
   "cell_type": "markdown",
   "id": "647ccdf0-e72c-45c8-8ae5-1ac27c711ab5",
   "metadata": {},
   "source": [
    "#### Start a Dask Gateway cluster"
   ]
  },
  {
   "cell_type": "code",
   "execution_count": null,
   "id": "7c69bd02-0fcc-4302-b5c6-1b52278768ca",
   "metadata": {},
   "outputs": [],
   "source": [
    "import os\n",
    "import sys\n",
    "sys.path.append(os.path.join(os.environ['HOME'],'shared','users','lib'))\n",
    "import nebari_utils as nbu\n",
    "\n",
    "profile = 'osn-mghp'\n",
    "region = 'us-east-1'\n",
    "endpoint_url = 'https://mghp.osn.xsede.org'\n",
    "nbu.set_credentials(profile=profile, region=region, endpoint_url=endpoint_url)\n",
    "worker_max = 4\n",
    "client,cluster = nbu.start_dask_cluster(profile=profile, worker_max=worker_max, \n",
    "                                      region=region, use_existing_cluster=False,\n",
    "                                      adaptive_scaling=False, wait_for_cluster=False, \n",
    "                                      worker_profile='Small Worker', \n",
    "                                      propagate_env=True)"
   ]
  },
  {
   "cell_type": "code",
   "execution_count": null,
   "id": "4af91f59-b019-4b97-9e0e-d54a3510ddcd",
   "metadata": {},
   "outputs": [],
   "source": [
    "#cluster.shutdown()"
   ]
  },
  {
   "cell_type": "code",
   "execution_count": null,
   "id": "aa248e3b-0f6f-4581-b9b4-ebda895c7fb6",
   "metadata": {},
   "outputs": [],
   "source": [
    "@#cluster.adapt(minimum=4, maximum=60)"
   ]
  },
  {
   "cell_type": "code",
   "execution_count": null,
   "id": "1d1a21f3-9b38-4221-bcab-c118f7917a21",
   "metadata": {
    "tags": []
   },
   "outputs": [],
   "source": [
    "fs_read = fsspec.filesystem('s3', anon=True, \n",
    "                            skip_instance_cache=True, \n",
    "                            use_listings_cache=False,\n",
    "                            client_kwargs={'endpoint_url': 'https://mghp.osn.xsede.org'})"
   ]
  },
  {
   "cell_type": "code",
   "execution_count": null,
   "id": "ab8fba1b-541a-45a3-b091-53fdbed2adf4",
   "metadata": {
    "tags": []
   },
   "outputs": [],
   "source": [
    "nc_list = fs_read.glob('s3://rsignellbucket1/jzambon/*_nc4.nc')\n",
    "nc_list"
   ]
  },
  {
   "cell_type": "code",
   "execution_count": null,
   "id": "2ed12a73-7510-4c06-85dd-0b120c98d24d",
   "metadata": {
    "tags": []
   },
   "outputs": [],
   "source": [
    "print(nc_list[0])\n",
    "print(nc_list[-1])"
   ]
  },
  {
   "cell_type": "code",
   "execution_count": null,
   "id": "37cf61de-7fbc-4b72-a877-40a64062051f",
   "metadata": {
    "tags": []
   },
   "outputs": [],
   "source": [
    "json_dir = 's3://rsignellbucket1/jzambon/jsons/'"
   ]
  },
  {
   "cell_type": "code",
   "execution_count": null,
   "id": "858055a4-4963-4c49-9203-0e4f2da3c6b3",
   "metadata": {
    "tags": []
   },
   "outputs": [],
   "source": [
    "json_list = fs_read.glob(f'{json_dir}*.json')\n",
    "print(len(json_list))\n",
    "print(json_list[0])\n",
    "print(json_list[-1])"
   ]
  },
  {
   "cell_type": "code",
   "execution_count": null,
   "id": "c107fdf8-b3eb-4944-9075-b7b4ef8e59f9",
   "metadata": {
    "tags": []
   },
   "outputs": [],
   "source": [
    "nc_processed_list = [j.split('.json')[0].replace('/jsons','') for j in json_list]\n",
    "print(nc_processed_list[0])\n",
    "print(nc_processed_list[-1])"
   ]
  },
  {
   "cell_type": "code",
   "execution_count": null,
   "id": "42d69305-3c28-4228-963e-99ac8775dbbc",
   "metadata": {
    "tags": []
   },
   "outputs": [],
   "source": [
    "nc_process_list = list(set(nc_list) - set(nc_processed_list))\n",
    "print(len(nc_process_list))\n",
    "if len(nc_process_list)>0:\n",
    "    print(nc_process_list[0])\n",
    "    print(nc_process_list[-1])"
   ]
  },
  {
   "cell_type": "code",
   "execution_count": null,
   "id": "b9c6b31a-c2b6-48ec-9731-7a2f72a8dfcf",
   "metadata": {},
   "outputs": [],
   "source": [
    "fs_write = fsspec.filesystem('s3', anon=False, \n",
    "        skip_instance_cache=True, client_kwargs={'endpoint_url': 'https://mghp.osn.xsede.org'})"
   ]
  },
  {
   "cell_type": "code",
   "execution_count": null,
   "id": "1d519baa-d60b-4f41-abec-87aa5a10f21c",
   "metadata": {},
   "outputs": [],
   "source": [
    "#for f in flist[:10]:\n",
    "#    fs.rm(f)"
   ]
  },
  {
   "cell_type": "code",
   "execution_count": null,
   "id": "ff2ea828-1ce7-4781-b73e-fb8d4d4dc46b",
   "metadata": {},
   "outputs": [],
   "source": [
    "flist = sorted(['s3://'+f for f in nc_process_list])"
   ]
  },
  {
   "cell_type": "code",
   "execution_count": null,
   "id": "bcedf939-0b09-4f23-ae79-ffa72d84d03f",
   "metadata": {},
   "outputs": [],
   "source": [
    "fsize = [fs_read.size(f) for f in flist]"
   ]
  },
  {
   "cell_type": "code",
   "execution_count": null,
   "id": "b4a2a398-9814-4d1a-9849-bfa2a9d82761",
   "metadata": {},
   "outputs": [],
   "source": [
    "import pandas as pd\n",
    "df = pd.DataFrame({'file': flist, 'size': fsize }).sort_values('size')"
   ]
  },
  {
   "cell_type": "code",
   "execution_count": null,
   "id": "a0c45cf5-0377-4c2c-ba9c-388da7786cf6",
   "metadata": {},
   "outputs": [],
   "source": [
    "pd.options.display.max_colwidth=100"
   ]
  },
  {
   "cell_type": "code",
   "execution_count": null,
   "id": "66a8a122-2f05-40b3-b6d1-8af4474d9305",
   "metadata": {},
   "outputs": [],
   "source": [
    "df.head()"
   ]
  },
  {
   "cell_type": "markdown",
   "id": "6368e297-efa8-41d9-a946-8bac501a3631",
   "metadata": {},
   "source": [
    "Any zero length or small files indicate files that didn't get transfered properly\n",
    "Run this notebook again after transfer to make sure all the NetCDF files look okay before creating the JSON files. "
   ]
  },
  {
   "cell_type": "code",
   "execution_count": null,
   "id": "754bd605-a604-4556-8c7b-9e30b1901dd1",
   "metadata": {
    "tags": []
   },
   "outputs": [],
   "source": [
    "so = dict(mode='rb', anon=False, skip_instance_cache=True,\n",
    "         client_kwargs={'endpoint_url':'https://mghp.osn.xsede.org'})"
   ]
  },
  {
   "cell_type": "markdown",
   "id": "7c61c32d-f953-43d7-88e6-85b4719349c7",
   "metadata": {},
   "source": [
    "#### Create the individual JSON files directly on S3 "
   ]
  },
  {
   "cell_type": "markdown",
   "id": "c31b04da-7f25-4630-b89d-7074aaa5f7bd",
   "metadata": {},
   "source": [
    "We passed AWS credentials to the Dask workers via environment variables above, and the dask workers don't have the AWS credentials file with profiles defined, so we don't define a profile here, we just set `anon=False` and let the workers find the credentials via the environment variables:"
   ]
  },
  {
   "cell_type": "code",
   "execution_count": null,
   "id": "cebc056b-f2a2-478e-b368-66f015b2d830",
   "metadata": {
    "tags": []
   },
   "outputs": [],
   "source": [
    "#json_dir = 's3://esip/jzambon/testing/jsons/'"
   ]
  },
  {
   "cell_type": "code",
   "execution_count": null,
   "id": "ad2da69d-950a-44ff-a69b-5182d1119cd0",
   "metadata": {},
   "outputs": [],
   "source": [
    "# This removes all the JSONs.   We wouldn't only do this if we wanted to recreate everything\n",
    "#try:\n",
    "#    fs.rm(json_dir, recursive=True)\n",
    "#except:\n",
    "#    pass"
   ]
  },
  {
   "cell_type": "code",
   "execution_count": null,
   "id": "a2aea4a0-c3f2-4811-bc9d-1f9c31177fce",
   "metadata": {},
   "outputs": [],
   "source": [
    "def gen_json(u):\n",
    "    with fs_read.open(u, **so) as infile:\n",
    "        h5chunks = SingleHdf5ToZarr(infile, u, inline_threshold=300)\n",
    "        fname = Path(u).stem\n",
    "        outf = f'{json_dir}{fname}.nc.json'\n",
    "        print(outf)\n",
    "        with fs_write.open(outf, 'wb') as f:\n",
    "            f.write(ujson.dumps(h5chunks.translate()).encode());"
   ]
  },
  {
   "cell_type": "code",
   "execution_count": null,
   "id": "3422fb36-2940-4b82-a4b1-dc5afabd722b",
   "metadata": {
    "tags": []
   },
   "outputs": [],
   "source": [
    "flist"
   ]
  },
  {
   "cell_type": "markdown",
   "id": "d101115f-cc9f-40a1-85ca-788e298817f1",
   "metadata": {},
   "source": [
    "#### Parallel creation of JSON for each file using Dask Futures"
   ]
  },
  {
   "cell_type": "code",
   "execution_count": null,
   "id": "519948d6-e291-4350-94d1-7c0e6dc6261f",
   "metadata": {},
   "outputs": [],
   "source": [
    "%%time\n",
    "futures = client.map(gen_json, flist)\n",
    "client.gather(futures)"
   ]
  },
  {
   "cell_type": "markdown",
   "id": "7df58441-3b29-4eb0-ac2c-763d57deee83",
   "metadata": {},
   "source": [
    "Check disk space used on OSN (TB)"
   ]
  },
  {
   "cell_type": "code",
   "execution_count": null,
   "id": "541c21a6-f5cc-4860-a670-0b43ec6dcab3",
   "metadata": {},
   "outputs": [],
   "source": [
    "%%time\n",
    "fs_write.du('s3://rsignellbucket1')/1e12"
   ]
  },
  {
   "cell_type": "code",
   "execution_count": null,
   "id": "8725254f-eea3-4191-a2d6-8fa495e3ee2e",
   "metadata": {},
   "outputs": [],
   "source": [
    "json_list = fs_read.ls(json_dir)\n",
    "json_list = sorted(['s3://'+f for f in json_list])"
   ]
  },
  {
   "cell_type": "code",
   "execution_count": null,
   "id": "9255e891-f3fb-43d4-aaf7-b6981c6e8f98",
   "metadata": {},
   "outputs": [],
   "source": [
    "opts = dict(anon=True, client_kwargs={'endpoint_url': 'https://mghp.osn.xsede.org'}, skip_instance_cache=True)"
   ]
  },
  {
   "cell_type": "code",
   "execution_count": null,
   "id": "e35cefea-7d02-44f5-aa1f-a26d4e607be6",
   "metadata": {},
   "outputs": [],
   "source": [
    "import base64\n",
    "\n",
    "import zarr\n",
    "import numpy as np\n",
    "\n",
    "def modify_metadata(out):\n",
    "    g = zarr.open(out)\n",
    "    \n",
    "    fill_value = 1.e+37\n",
    "    for n, v in g.arrays():\n",
    "        if len(v.shape) == 4:\n",
    "            #fill_value = v[-1,-1,0,0]\n",
    "            v.fill_value = fill_value # 1.e+37\n",
    "        elif len(v.shape) == 3:\n",
    "            #fill_value = v[-1,-1,0]\n",
    "            v.fill_value = fill_value # 1.e+37\n",
    "        elif len(v.shape) == 2:\n",
    "            #fill_value = v[-1,-1]\n",
    "            v.fill_value = fill_value # 1.e+37\n",
    "        #g[n].fill_value = 1.e+37\n",
    "    g.ocean_time.attrs['standard_name'] = 'time'\n",
    "    return out\n",
    "    \n",
    "def postprocess(out):\n",
    "    out = modify_metadata(out)\n",
    "    return out"
   ]
  },
  {
   "cell_type": "code",
   "execution_count": null,
   "id": "1150a650-9616-43a2-84ca-a4c056f02d2f",
   "metadata": {},
   "outputs": [],
   "source": []
  },
  {
   "cell_type": "code",
   "execution_count": null,
   "id": "efc08454-ea63-429c-b956-a98080db512a",
   "metadata": {
    "tags": []
   },
   "outputs": [],
   "source": [
    "opts = dict(anon=True, client_kwargs={'endpoint_url': 'https://mghp.osn.xsede.org'})"
   ]
  },
  {
   "cell_type": "markdown",
   "id": "2f129086-c6ef-46e3-8990-ea06b60fd7c7",
   "metadata": {},
   "source": [
    "Combine the jsons using Dask cluster"
   ]
  },
  {
   "cell_type": "code",
   "execution_count": null,
   "id": "6a5578c4-5acb-4065-9822-9ca916f81697",
   "metadata": {},
   "outputs": [],
   "source": [
    "mzz_kwargs = dict(concat_dims = ['ocean_time'],\n",
    "                identical_dims=['lat_psi','lat_rho','lat_u','lat_v',\n",
    "                                'lon_psi','lon_rho','lon_u','lon_v'],\n",
    "                preprocess=postprocess)"
   ]
  },
  {
   "cell_type": "markdown",
   "id": "28a79d34-a9eb-42a2-9636-111cceabb980",
   "metadata": {},
   "source": [
    "Update the json_list with the new files and convert to s3 urls"
   ]
  },
  {
   "cell_type": "code",
   "execution_count": null,
   "id": "5f5a5f1e-b686-4f4e-aada-951bc6c9222c",
   "metadata": {},
   "outputs": [],
   "source": [
    "json_list = fs_read.glob(f'{json_dir}*.json')\n",
    "json_list = [f's3://{j}' for j in json_list]"
   ]
  },
  {
   "cell_type": "code",
   "execution_count": null,
   "id": "a5a7d921-f398-49c2-a9be-410fa1fd84e1",
   "metadata": {},
   "outputs": [],
   "source": [
    "%%time\n",
    "d = auto_dask(\n",
    "    json_list,\n",
    "    single_driver=JustLoad,\n",
    "    single_kwargs={\"storage_options\": opts},\n",
    "    mzz_kwargs=mzz_kwargs,\n",
    "    n_batches=worker_max,   # give one batch to each worker\n",
    "    remote_protocol=\"s3\",\n",
    "    remote_options=opts\n",
    ")"
   ]
  },
  {
   "cell_type": "markdown",
   "id": "5ba64f09-5cd2-4057-bac9-653705c384e9",
   "metadata": {},
   "source": [
    "Examine the resulting dataset"
   ]
  },
  {
   "cell_type": "code",
   "execution_count": null,
   "id": "d6331ade-d868-4702-9695-d594db9948a6",
   "metadata": {},
   "outputs": [],
   "source": [
    "fs5 = fsspec.filesystem(\"reference\", fo=d, target_options=opts,\n",
    "                       remote_protocol='s3', remote_options=opts,\n",
    "                       skip_instance_cache=True)\n",
    "m = fs5.get_mapper(\"\")"
   ]
  },
  {
   "cell_type": "code",
   "execution_count": null,
   "id": "59ee6076-2e06-4af5-8254-2697943286a9",
   "metadata": {},
   "outputs": [],
   "source": [
    "ds = xr.open_dataset(m, engine=\"zarr\", chunks={'ocean_time':12}, \n",
    "                     backend_kwargs=dict(consolidated=False))"
   ]
  },
  {
   "cell_type": "code",
   "execution_count": null,
   "id": "541467bf-a363-4b94-8377-a4286529cd8d",
   "metadata": {
    "tags": []
   },
   "outputs": [],
   "source": [
    "ds"
   ]
  },
  {
   "cell_type": "markdown",
   "id": "0780aee2-e817-4597-9437-7667e8ed4d9b",
   "metadata": {},
   "source": [
    "Use CF conventions to select times"
   ]
  },
  {
   "cell_type": "code",
   "execution_count": null,
   "id": "0263ac55-b239-4424-a61f-07f13e871d09",
   "metadata": {},
   "outputs": [],
   "source": [
    "ds.cf.isel(time=-1)"
   ]
  },
  {
   "cell_type": "markdown",
   "id": "efc7cab7-345e-4af3-a2b5-5e9ed3ce052c",
   "metadata": {},
   "source": [
    "Write combined JSON to S3"
   ]
  },
  {
   "cell_type": "code",
   "execution_count": null,
   "id": "fc2d4dea-b332-459d-b23f-130fc8a283c9",
   "metadata": {},
   "outputs": [],
   "source": [
    "combined_json = 's3://rsignellbucket1/jzambon/archive.json'"
   ]
  },
  {
   "cell_type": "code",
   "execution_count": null,
   "id": "07cab3c9-83ed-4e8b-b31b-8d9d1f55193e",
   "metadata": {},
   "outputs": [],
   "source": [
    "%%time\n",
    "with fs_write.open(combined_json, 'wb') as f:\n",
    "    f.write(ujson.dumps(d).encode());"
   ]
  },
  {
   "cell_type": "code",
   "execution_count": null,
   "id": "19ee9e84-8b8d-4c59-b3c5-dc33a3e2822b",
   "metadata": {},
   "outputs": [],
   "source": [
    "fs_write.size(combined_json)/1e6  # combined JSON size in MB"
   ]
  },
  {
   "cell_type": "code",
   "execution_count": null,
   "id": "bdcdd78d-4130-46a4-bc7d-befd0048b4bc",
   "metadata": {},
   "outputs": [],
   "source": [
    "fs_write.info(combined_json)"
   ]
  },
  {
   "cell_type": "markdown",
   "id": "503a75b0-4577-47d3-9f97-825e83a18776",
   "metadata": {},
   "source": [
    "#### Try opening the consolidated JSON file from S3"
   ]
  },
  {
   "cell_type": "code",
   "execution_count": null,
   "id": "8918a33d-c040-42cd-85bc-fe00e2eb11dc",
   "metadata": {},
   "outputs": [],
   "source": [
    "# repeating lines from above for convenience in case notebook is started here:\n",
    "combined_json = 's3://rsignellbucket1/cnaps/archive.json'\n",
    "opts = dict(anon=True, client_kwargs={'endpoint_url': 'https://mghp.osn.xsede.org'})"
   ]
  },
  {
   "cell_type": "code",
   "execution_count": null,
   "id": "f7f580ce-9168-431b-aa40-733f38ab2f96",
   "metadata": {
    "tags": []
   },
   "outputs": [],
   "source": [
    "%%time\n",
    "fs5 = fsspec.filesystem(\"reference\", fo=combined_json, target_options=opts,\n",
    "                       remote_protocol='s3', remote_options=opts,\n",
    "                       skip_instance_cache=True)\n",
    "m = fs5.get_mapper(\"\")\n",
    "ds = xr.open_dataset(m, engine=\"zarr\", chunks={}, \n",
    "                     backend_kwargs=dict(consolidated=False))"
   ]
  },
  {
   "cell_type": "code",
   "execution_count": null,
   "id": "5c30852b-012d-4673-9368-35dff733f8fa",
   "metadata": {},
   "outputs": [],
   "source": []
  },
  {
   "cell_type": "code",
   "execution_count": null,
   "id": "d045648b-9355-403c-9a01-28e5acf6773d",
   "metadata": {},
   "outputs": [],
   "source": [
    "#fs5 = fsspec.filesystem(\"reference\", fo=json_list[-1], target_options=opts,\n",
    "#                       remote_protocol='s3', remote_options=opts)\n",
    "#m = fs5.get_mapper(\"\")\n",
    "#ds = xr.open_dataset(m, engine=\"zarr\", chunks={'ocean_time':12}, \n",
    "#                     backend_kwargs=dict(consolidated=False))"
   ]
  },
  {
   "cell_type": "code",
   "execution_count": null,
   "id": "2c615e12-3e9d-4175-8ab2-b512c4b9a221",
   "metadata": {},
   "outputs": [],
   "source": [
    "ds.salt"
   ]
  },
  {
   "cell_type": "code",
   "execution_count": null,
   "id": "1fa33b23-d0f3-4d09-a595-c6e9dcaf81d5",
   "metadata": {},
   "outputs": [],
   "source": [
    "%%time\n",
    "da = ds['temp'][-10:,-1,:,:].load()"
   ]
  },
  {
   "cell_type": "code",
   "execution_count": null,
   "id": "bc9ccf42-7f45-4d62-9a25-5deea881a7a3",
   "metadata": {},
   "outputs": [],
   "source": [
    "lon_name = da.cf['longitude'].name\n",
    "lat_name = da.cf['latitude'].name\n",
    "\n",
    "da.hvplot.quadmesh(x=lon_name, y=lat_name, geo=True, cmap='turbo', tiles='OSM', rasterize=True)"
   ]
  },
  {
   "cell_type": "code",
   "execution_count": null,
   "id": "5ecffc6e-6510-492d-9eff-e2a5a481d1a0",
   "metadata": {},
   "outputs": [],
   "source": [
    "da[:,150,150].hvplot(x='ocean_time', grid=True)"
   ]
  },
  {
   "cell_type": "code",
   "execution_count": null,
   "id": "5d3c7d11-8878-401b-a5c3-309f60d1de87",
   "metadata": {},
   "outputs": [],
   "source": [
    "client.close(); cluster.shutdown()"
   ]
  },
  {
   "cell_type": "code",
   "execution_count": null,
   "id": "9372b00f-99fe-47ab-b059-81a6e3ca4fef",
   "metadata": {},
   "outputs": [],
   "source": []
  }
 ],
 "metadata": {
  "kernelspec": {
   "display_name": "global-global-pangeo",
   "language": "python",
   "name": "conda-env-global-global-pangeo-py"
  },
  "language_info": {
   "codemirror_mode": {
    "name": "ipython",
    "version": 3
   },
   "file_extension": ".py",
   "mimetype": "text/x-python",
   "name": "python",
   "nbconvert_exporter": "python",
   "pygments_lexer": "ipython3",
   "version": "3.10.13"
  }
 },
 "nbformat": 4,
 "nbformat_minor": 5
}
