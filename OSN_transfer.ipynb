{
 "cells": [
  {
   "cell_type": "code",
   "execution_count": null,
   "id": "f60465b1-6577-4045-bdce-dc21fb0ea54e",
   "metadata": {
    "tags": []
   },
   "outputs": [],
   "source": [
    "import fsspec"
   ]
  },
  {
   "cell_type": "markdown",
   "id": "bb6db718-fb85-420c-9ef4-70da07986d3d",
   "metadata": {
    "tags": []
   },
   "source": [
    "Download a NetCDF4 file"
   ]
  },
  {
   "cell_type": "code",
   "execution_count": null,
   "id": "8c048148-b555-4d1a-a9c6-07b69771c035",
   "metadata": {
    "tags": []
   },
   "outputs": [],
   "source": [
    "fs_s3 = fsspec.filesystem('s3',anon=True, client_kwargs={'endpoint_url':'https://ncsa.osn.xsede.org'})\n",
    "file = 'esip/jzambon/testing/his_20231030_nc4.nc'\n",
    "fs_s3.download(file,file.split('/')[-1])"
   ]
  },
  {
   "cell_type": "markdown",
   "id": "c53ac025-da3d-446f-9f37-21bebfe69267",
   "metadata": {},
   "source": [
    "Upload at NetCDF 64 bit offset file"
   ]
  },
  {
   "cell_type": "code",
   "execution_count": null,
   "id": "015dcac6-e380-4ce4-94e0-460606a1edee",
   "metadata": {
    "tags": []
   },
   "outputs": [],
   "source": [
    "fs_m = fsspec.filesystem('s3',profile='osn-mghp', client_kwargs={'endpoint_url':'https://mghp.osn.xsede.org'})\n",
    "fs_m.upload('his_20231030_64bit.nc', 'rsignellbucket1/rsignell/testing/his_20231030_64bit.nc')"
   ]
  },
  {
   "cell_type": "code",
   "execution_count": null,
   "id": "9eb800aa-e872-463c-ba15-638fed506420",
   "metadata": {
    "tags": []
   },
   "outputs": [],
   "source": [
    "%%time\n",
    "fs_m = fsspec.filesystem('s3',anon=True, client_kwargs={'endpoint_url':'https://mghp.osn.xsede.org'})\n",
    "fs_m.download('rsignellbucket1/rsignell/testing/his_20231030_64bit.nc','64bit2.nc')"
   ]
  },
  {
   "cell_type": "code",
   "execution_count": null,
   "id": "a6b8f4c7-c7ea-4cfc-b477-7eacc15cc972",
   "metadata": {
    "tags": []
   },
   "outputs": [],
   "source": [
    "fs_s3.ls('esip/jzambon/testing')"
   ]
  },
  {
   "cell_type": "code",
   "execution_count": null,
   "id": "517e7bba-8d5a-4f18-9e19-3b1795eb4354",
   "metadata": {
    "tags": []
   },
   "outputs": [],
   "source": [
    "import fsspec\n",
    "fs_s3 = fsspec.filesystem('s3',anon=True, client_kwargs={'endpoint_url':'https://ncsa.osn.xsede.org'})\n",
    "fs_s3.download(f'esip/jzambon/testing/his_20231030.nc','64bit_offset.nc')\n",
    "!ncdump -k 64bit_offset.nc"
   ]
  },
  {
   "cell_type": "code",
   "execution_count": null,
   "id": "319309ae-96fe-4662-a3b0-4940776869d0",
   "metadata": {},
   "outputs": [],
   "source": []
  }
 ],
 "metadata": {
  "kernelspec": {
   "display_name": "nebari-git-nebari-git-pangeo",
   "language": "python",
   "name": "conda-env-nebari-git-nebari-git-pangeo-py"
  },
  "language_info": {
   "codemirror_mode": {
    "name": "ipython",
    "version": 3
   },
   "file_extension": ".py",
   "mimetype": "text/x-python",
   "name": "python",
   "nbconvert_exporter": "python",
   "pygments_lexer": "ipython3",
   "version": "3.10.13"
  }
 },
 "nbformat": 4,
 "nbformat_minor": 5
}
