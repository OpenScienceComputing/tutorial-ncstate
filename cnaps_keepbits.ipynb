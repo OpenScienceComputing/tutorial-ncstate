{
 "cells": [
  {
   "cell_type": "markdown",
   "id": "a74f227f-a802-4655-843e-c0b151d36b54",
   "metadata": {},
   "source": [
    "# Calculate keepbits for CNAPSv2 daily average files with 99.9% info\n",
    "snip out a piece of water only and determine keepbits for CNAPS vars using xinfo, using a water only subset"
   ]
  },
  {
   "cell_type": "code",
   "execution_count": 1,
   "id": "9c221c04-5511-48af-a1a0-8ff1b43ab515",
   "metadata": {},
   "outputs": [],
   "source": [
    "import xarray as xr\n",
    "import xbitinfo as xb\n",
    "import fsspec\n",
    "from pathlib import Path"
   ]
  },
  {
   "cell_type": "code",
   "execution_count": 2,
   "id": "1876c9e3-13f8-405b-8eae-240ee2e336d3",
   "metadata": {},
   "outputs": [],
   "source": [
    "fs = fsspec.filesystem('file')"
   ]
  },
  {
   "cell_type": "code",
   "execution_count": 3,
   "id": "f32426fa-a21f-4d98-83b0-9dc3ae281e7b",
   "metadata": {},
   "outputs": [],
   "source": [
    "flist = fs.glob('/storage/cnapsv2/useast_avg_*.nc')"
   ]
  },
  {
   "cell_type": "code",
   "execution_count": 4,
   "id": "3c019a04-5f08-4645-b712-e42964587d00",
   "metadata": {},
   "outputs": [],
   "source": [
    "ds = xr.open_dataset(flist[0], chunks={'ocean_time':1}, drop_variables=['dstart'])"
   ]
  },
  {
   "cell_type": "code",
   "execution_count": 5,
   "id": "d76e69b2-ee5c-4947-8be4-3df8f6b2e031",
   "metadata": {},
   "outputs": [],
   "source": [
    "# calculate keepbits on a section with water cells only, and only for first 10 time steps"
   ]
  },
  {
   "cell_type": "code",
   "execution_count": 6,
   "id": "ca85fbea-9680-41e3-964a-6123eb1baee0",
   "metadata": {},
   "outputs": [
    {
     "data": {
      "application/vnd.jupyter.widget-view+json": {
       "model_id": "5b245994485b467b99c56dfbf64c7adb",
       "version_major": 2,
       "version_minor": 0
      },
      "text/plain": [
       "  0%|          | 0/4 [00:00<?, ?it/s]"
      ]
     },
     "metadata": {},
     "output_type": "display_data"
    },
    {
     "name": "stderr",
     "output_type": "stream",
     "text": [
      "/home/ec2-user/miniforge3/envs/xbitinfo/lib/python3.10/site-packages/dask/core.py:127: RuntimeWarning: divide by zero encountered in log\n",
      "  return func(*(_execute_task(a, cache) for a in args))\n",
      "/home/ec2-user/miniforge3/envs/xbitinfo/lib/python3.10/site-packages/dask/core.py:127: RuntimeWarning: divide by zero encountered in log\n",
      "  return func(*(_execute_task(a, cache) for a in args))\n",
      "/home/ec2-user/miniforge3/envs/xbitinfo/lib/python3.10/site-packages/dask/core.py:127: RuntimeWarning: divide by zero encountered in log\n",
      "  return func(*(_execute_task(a, cache) for a in args))\n",
      "/home/ec2-user/miniforge3/envs/xbitinfo/lib/python3.10/site-packages/dask/core.py:127: RuntimeWarning: divide by zero encountered in log\n",
      "  return func(*(_execute_task(a, cache) for a in args))\n"
     ]
    },
    {
     "data": {
      "text/plain": [
       "<bound method Mapping.values of <xarray.Dataset>\n",
       "Dimensions:   (inflevel: 1)\n",
       "Coordinates:\n",
       "    dim       <U6 'xi_rho'\n",
       "  * inflevel  (inflevel) float64 0.999\n",
       "Data variables:\n",
       "    temp      (inflevel) int64 8\n",
       "    salt      (inflevel) int64 12\n",
       "    zeta      (inflevel) int64 5\n",
       "    omega     (inflevel) int64 1>"
      ]
     },
     "execution_count": 6,
     "metadata": {},
     "output_type": "execute_result"
    }
   ],
   "source": [
    "ds2 = ds[['temp','salt','omega','zeta']].isel(ocean_time=slice(0,10), s_rho=-1, s_w=-4,\n",
    "               eta_rho=slice(500,700), xi_rho=slice(800,1000))\n",
    "bitinfo = xb.get_bitinformation(ds2, dim=\"xi_rho\", implementation='python')\n",
    "keepbits1 = xb.get_keepbits(bitinfo, inflevel=0.999)  # get number of mantissa bits to keep for 99% real information\n",
    "keepbits1.values"
   ]
  },
  {
   "cell_type": "code",
   "execution_count": 7,
   "id": "633467b7-e9fd-41f2-a73e-fa0214d32222",
   "metadata": {},
   "outputs": [
    {
     "data": {
      "application/vnd.jupyter.widget-view+json": {
       "model_id": "bd9dd97bc2fa4bd0987ff86fb68d6968",
       "version_major": 2,
       "version_minor": 0
      },
      "text/plain": [
       "  0%|          | 0/2 [00:00<?, ?it/s]"
      ]
     },
     "metadata": {},
     "output_type": "display_data"
    },
    {
     "name": "stderr",
     "output_type": "stream",
     "text": [
      "/home/ec2-user/miniforge3/envs/xbitinfo/lib/python3.10/site-packages/dask/core.py:127: RuntimeWarning: divide by zero encountered in log\n",
      "  return func(*(_execute_task(a, cache) for a in args))\n",
      "/home/ec2-user/miniforge3/envs/xbitinfo/lib/python3.10/site-packages/dask/core.py:127: RuntimeWarning: divide by zero encountered in log\n",
      "  return func(*(_execute_task(a, cache) for a in args))\n"
     ]
    },
    {
     "data": {
      "text/plain": [
       "<bound method Mapping.values of <xarray.Dataset>\n",
       "Dimensions:   (inflevel: 1)\n",
       "Coordinates:\n",
       "    dim       <U4 'xi_v'\n",
       "  * inflevel  (inflevel) float64 0.999\n",
       "Data variables:\n",
       "    v         (inflevel) int64 2\n",
       "    vbar      (inflevel) int64 2>"
      ]
     },
     "execution_count": 7,
     "metadata": {},
     "output_type": "execute_result"
    }
   ],
   "source": [
    "ds2 = ds[['v','vbar']].isel(ocean_time=slice(0,100), s_rho=-1,\n",
    "               eta_v=slice(500,700), xi_v=slice(800,1000))\n",
    "bitinfo = xb.get_bitinformation(ds2, dim=\"xi_v\", implementation='python')\n",
    "keepbits2 = xb.get_keepbits(bitinfo, inflevel=0.999)  # get number of mantissa bits to keep for 99% real information\n",
    "keepbits2.values"
   ]
  },
  {
   "cell_type": "code",
   "execution_count": 8,
   "id": "7c964ea2-2423-4d40-83be-4a5f6d161ac2",
   "metadata": {},
   "outputs": [
    {
     "data": {
      "application/vnd.jupyter.widget-view+json": {
       "model_id": "9199c96bd5fb48f5b7c73cb7704f3ab4",
       "version_major": 2,
       "version_minor": 0
      },
      "text/plain": [
       "  0%|          | 0/2 [00:00<?, ?it/s]"
      ]
     },
     "metadata": {},
     "output_type": "display_data"
    },
    {
     "name": "stderr",
     "output_type": "stream",
     "text": [
      "/home/ec2-user/miniforge3/envs/xbitinfo/lib/python3.10/site-packages/dask/core.py:127: RuntimeWarning: divide by zero encountered in log\n",
      "  return func(*(_execute_task(a, cache) for a in args))\n",
      "/home/ec2-user/miniforge3/envs/xbitinfo/lib/python3.10/site-packages/dask/core.py:127: RuntimeWarning: divide by zero encountered in log\n",
      "  return func(*(_execute_task(a, cache) for a in args))\n"
     ]
    },
    {
     "data": {
      "text/plain": [
       "<bound method Mapping.values of <xarray.Dataset>\n",
       "Dimensions:   (inflevel: 1)\n",
       "Coordinates:\n",
       "    dim       <U4 'xi_u'\n",
       "  * inflevel  (inflevel) float64 0.999\n",
       "Data variables:\n",
       "    u         (inflevel) int64 3\n",
       "    ubar      (inflevel) int64 3>"
      ]
     },
     "execution_count": 8,
     "metadata": {},
     "output_type": "execute_result"
    }
   ],
   "source": [
    "ds2 = ds[['u','ubar']].isel(ocean_time=slice(0,100), s_rho=-1,\n",
    "               eta_u=slice(500,700), xi_u=slice(800,1000))\n",
    "bitinfo = xb.get_bitinformation(ds2, dim=\"xi_u\", implementation='python')\n",
    "keepbits3 = xb.get_keepbits(bitinfo, inflevel=0.999)  # get number of mantissa bits to keep for 99% real information\n",
    "keepbits3.values"
   ]
  },
  {
   "cell_type": "code",
   "execution_count": 9,
   "id": "175cfcb9-ccaf-4021-a65d-4445a2c32fdf",
   "metadata": {},
   "outputs": [],
   "source": [
    "keepbits = xr.merge([keepbits1, keepbits2, keepbits3], compat='override')"
   ]
  },
  {
   "cell_type": "code",
   "execution_count": 10,
   "id": "6697d904-d27e-418e-82d3-d2b31597a4f2",
   "metadata": {
    "scrolled": true
   },
   "outputs": [],
   "source": [
    "keepbits.to_netcdf('keepbits.nc', mode='w')"
   ]
  }
 ],
 "metadata": {
  "kernelspec": {
   "display_name": "Python [conda env:xbitinfo]",
   "language": "python",
   "name": "conda-env-xbitinfo-py"
  },
  "language_info": {
   "codemirror_mode": {
    "name": "ipython",
    "version": 3
   },
   "file_extension": ".py",
   "mimetype": "text/x-python",
   "name": "python",
   "nbconvert_exporter": "python",
   "pygments_lexer": "ipython3",
   "version": "3.10.13"
  },
  "widgets": {
   "application/vnd.jupyter.widget-state+json": {
    "state": {
     "0207cfc0117546f3bbefc8f1bb86679f": {
      "model_module": "@jupyter-widgets/controls",
      "model_module_version": "2.0.0",
      "model_name": "HTMLModel",
      "state": {
       "layout": "IPY_MODEL_474ff970e8324c8a978d4b77b8764990",
       "style": "IPY_MODEL_e78c38d502da47cabda2b491daf6b505",
       "value": "Processing var: ubar for dim: xi_u: 100%"
      }
     },
     "07aca8139b7a4510978e4a849f58b580": {
      "model_module": "@jupyter-widgets/controls",
      "model_module_version": "2.0.0",
      "model_name": "HTMLModel",
      "state": {
       "layout": "IPY_MODEL_7054da775d9e447b8374b23bf07f0d46",
       "style": "IPY_MODEL_d00f8a5b665b4c499c8a004ef91ed4bb",
       "value": "Processing var: vbar for dim: xi_v: 100%"
      }
     },
     "130d94e7284545749cf5a6ec8a8d6eae": {
      "model_module": "@jupyter-widgets/controls",
      "model_module_version": "2.0.0",
      "model_name": "HTMLStyleModel",
      "state": {
       "description_width": "",
       "font_size": null,
       "text_color": null
      }
     },
     "19142c3967634d8d9f90b988f580921e": {
      "model_module": "@jupyter-widgets/controls",
      "model_module_version": "2.0.0",
      "model_name": "ProgressStyleModel",
      "state": {
       "description_width": ""
      }
     },
     "2329850f0a054d079dcc46f9c23bb89b": {
      "model_module": "@jupyter-widgets/base",
      "model_module_version": "2.0.0",
      "model_name": "LayoutModel",
      "state": {}
     },
     "2f68e6c29c4146438955a899a3440bcf": {
      "model_module": "@jupyter-widgets/controls",
      "model_module_version": "2.0.0",
      "model_name": "HTMLStyleModel",
      "state": {
       "description_width": "",
       "font_size": null,
       "text_color": null
      }
     },
     "35b6460889584f14b4965bf61fe58fec": {
      "model_module": "@jupyter-widgets/base",
      "model_module_version": "2.0.0",
      "model_name": "LayoutModel",
      "state": {}
     },
     "474ff970e8324c8a978d4b77b8764990": {
      "model_module": "@jupyter-widgets/base",
      "model_module_version": "2.0.0",
      "model_name": "LayoutModel",
      "state": {}
     },
     "4e1163175d804dd8a17850f26e21eab3": {
      "model_module": "@jupyter-widgets/controls",
      "model_module_version": "2.0.0",
      "model_name": "HTMLModel",
      "state": {
       "layout": "IPY_MODEL_7fef8ae2c421467db8fe7806476b861a",
       "style": "IPY_MODEL_acb88c9ad929440798b3d563e8b8b528",
       "value": " 4/4 [00:01&lt;00:00,  2.15it/s]"
      }
     },
     "4f3e6f578d2f421a858d9f9fb72cbe6e": {
      "model_module": "@jupyter-widgets/controls",
      "model_module_version": "2.0.0",
      "model_name": "FloatProgressModel",
      "state": {
       "bar_style": "success",
       "layout": "IPY_MODEL_8d7c76ad69d54d93a09c9b65b8ad96dd",
       "max": 2,
       "style": "IPY_MODEL_f59f331bd6fa472fbc3ab2aefaf87c00",
       "value": 2
      }
     },
     "5076ed58049740268c0fd88bf0c7bb5a": {
      "model_module": "@jupyter-widgets/base",
      "model_module_version": "2.0.0",
      "model_name": "LayoutModel",
      "state": {}
     },
     "5201d38d50854efa991bcf9c1ddf5f7c": {
      "model_module": "@jupyter-widgets/controls",
      "model_module_version": "2.0.0",
      "model_name": "FloatProgressModel",
      "state": {
       "bar_style": "success",
       "layout": "IPY_MODEL_35b6460889584f14b4965bf61fe58fec",
       "max": 4,
       "style": "IPY_MODEL_d6c00d3cf94c4965a0817254974d055f",
       "value": 4
      }
     },
     "54e746e0e43d4a48a5b937913a3baab4": {
      "model_module": "@jupyter-widgets/controls",
      "model_module_version": "2.0.0",
      "model_name": "HTMLModel",
      "state": {
       "layout": "IPY_MODEL_67c4f52370b84b8a8aeaa2f9a839f593",
       "style": "IPY_MODEL_2f68e6c29c4146438955a899a3440bcf",
       "value": " 2/2 [00:07&lt;00:00,  3.58s/it]"
      }
     },
     "5b245994485b467b99c56dfbf64c7adb": {
      "model_module": "@jupyter-widgets/controls",
      "model_module_version": "2.0.0",
      "model_name": "HBoxModel",
      "state": {
       "children": [
        "IPY_MODEL_93f90a80291e4f2ebad2ad5de271c012",
        "IPY_MODEL_5201d38d50854efa991bcf9c1ddf5f7c",
        "IPY_MODEL_4e1163175d804dd8a17850f26e21eab3"
       ],
       "layout": "IPY_MODEL_76e792268eea47728a0cccc872b4e6a1"
      }
     },
     "67c4f52370b84b8a8aeaa2f9a839f593": {
      "model_module": "@jupyter-widgets/base",
      "model_module_version": "2.0.0",
      "model_name": "LayoutModel",
      "state": {}
     },
     "6f23d4e2c2714c87ba25ea5605fbc6e9": {
      "model_module": "@jupyter-widgets/controls",
      "model_module_version": "2.0.0",
      "model_name": "HTMLModel",
      "state": {
       "layout": "IPY_MODEL_84aafc3348a7452dbc76f03067453cc6",
       "style": "IPY_MODEL_ff3d77979c134b6f93123cb484ba300c",
       "value": " 2/2 [00:06&lt;00:00,  3.38s/it]"
      }
     },
     "7054da775d9e447b8374b23bf07f0d46": {
      "model_module": "@jupyter-widgets/base",
      "model_module_version": "2.0.0",
      "model_name": "LayoutModel",
      "state": {}
     },
     "76e792268eea47728a0cccc872b4e6a1": {
      "model_module": "@jupyter-widgets/base",
      "model_module_version": "2.0.0",
      "model_name": "LayoutModel",
      "state": {}
     },
     "7fef8ae2c421467db8fe7806476b861a": {
      "model_module": "@jupyter-widgets/base",
      "model_module_version": "2.0.0",
      "model_name": "LayoutModel",
      "state": {}
     },
     "84aafc3348a7452dbc76f03067453cc6": {
      "model_module": "@jupyter-widgets/base",
      "model_module_version": "2.0.0",
      "model_name": "LayoutModel",
      "state": {}
     },
     "8d7c76ad69d54d93a09c9b65b8ad96dd": {
      "model_module": "@jupyter-widgets/base",
      "model_module_version": "2.0.0",
      "model_name": "LayoutModel",
      "state": {}
     },
     "9199c96bd5fb48f5b7c73cb7704f3ab4": {
      "model_module": "@jupyter-widgets/controls",
      "model_module_version": "2.0.0",
      "model_name": "HBoxModel",
      "state": {
       "children": [
        "IPY_MODEL_0207cfc0117546f3bbefc8f1bb86679f",
        "IPY_MODEL_4f3e6f578d2f421a858d9f9fb72cbe6e",
        "IPY_MODEL_6f23d4e2c2714c87ba25ea5605fbc6e9"
       ],
       "layout": "IPY_MODEL_2329850f0a054d079dcc46f9c23bb89b"
      }
     },
     "93f90a80291e4f2ebad2ad5de271c012": {
      "model_module": "@jupyter-widgets/controls",
      "model_module_version": "2.0.0",
      "model_name": "HTMLModel",
      "state": {
       "layout": "IPY_MODEL_b4f59f7706814bb798938935f981fba3",
       "style": "IPY_MODEL_130d94e7284545749cf5a6ec8a8d6eae",
       "value": "Processing var: zeta for dim: xi_rho: 100%"
      }
     },
     "acb88c9ad929440798b3d563e8b8b528": {
      "model_module": "@jupyter-widgets/controls",
      "model_module_version": "2.0.0",
      "model_name": "HTMLStyleModel",
      "state": {
       "description_width": "",
       "font_size": null,
       "text_color": null
      }
     },
     "b4f59f7706814bb798938935f981fba3": {
      "model_module": "@jupyter-widgets/base",
      "model_module_version": "2.0.0",
      "model_name": "LayoutModel",
      "state": {}
     },
     "bd9dd97bc2fa4bd0987ff86fb68d6968": {
      "model_module": "@jupyter-widgets/controls",
      "model_module_version": "2.0.0",
      "model_name": "HBoxModel",
      "state": {
       "children": [
        "IPY_MODEL_07aca8139b7a4510978e4a849f58b580",
        "IPY_MODEL_d6b2a5c47a63409db0c1ea6f5c4fe28d",
        "IPY_MODEL_54e746e0e43d4a48a5b937913a3baab4"
       ],
       "layout": "IPY_MODEL_5076ed58049740268c0fd88bf0c7bb5a"
      }
     },
     "d00f8a5b665b4c499c8a004ef91ed4bb": {
      "model_module": "@jupyter-widgets/controls",
      "model_module_version": "2.0.0",
      "model_name": "HTMLStyleModel",
      "state": {
       "description_width": "",
       "font_size": null,
       "text_color": null
      }
     },
     "d6b2a5c47a63409db0c1ea6f5c4fe28d": {
      "model_module": "@jupyter-widgets/controls",
      "model_module_version": "2.0.0",
      "model_name": "FloatProgressModel",
      "state": {
       "bar_style": "success",
       "layout": "IPY_MODEL_d88766fa1b5240f3a5be0795f96bddf9",
       "max": 2,
       "style": "IPY_MODEL_19142c3967634d8d9f90b988f580921e",
       "value": 2
      }
     },
     "d6c00d3cf94c4965a0817254974d055f": {
      "model_module": "@jupyter-widgets/controls",
      "model_module_version": "2.0.0",
      "model_name": "ProgressStyleModel",
      "state": {
       "description_width": ""
      }
     },
     "d88766fa1b5240f3a5be0795f96bddf9": {
      "model_module": "@jupyter-widgets/base",
      "model_module_version": "2.0.0",
      "model_name": "LayoutModel",
      "state": {}
     },
     "e78c38d502da47cabda2b491daf6b505": {
      "model_module": "@jupyter-widgets/controls",
      "model_module_version": "2.0.0",
      "model_name": "HTMLStyleModel",
      "state": {
       "description_width": "",
       "font_size": null,
       "text_color": null
      }
     },
     "f59f331bd6fa472fbc3ab2aefaf87c00": {
      "model_module": "@jupyter-widgets/controls",
      "model_module_version": "2.0.0",
      "model_name": "ProgressStyleModel",
      "state": {
       "description_width": ""
      }
     },
     "ff3d77979c134b6f93123cb484ba300c": {
      "model_module": "@jupyter-widgets/controls",
      "model_module_version": "2.0.0",
      "model_name": "HTMLStyleModel",
      "state": {
       "description_width": "",
       "font_size": null,
       "text_color": null
      }
     }
    },
    "version_major": 2,
    "version_minor": 0
   }
  }
 },
 "nbformat": 4,
 "nbformat_minor": 5
}
