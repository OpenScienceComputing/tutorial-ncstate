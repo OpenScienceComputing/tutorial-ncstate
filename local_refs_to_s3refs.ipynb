{
 "cells": [
  {
   "cell_type": "markdown",
   "id": "ee692858-296e-4252-b865-6706c60d49d3",
   "metadata": {},
   "source": [
    "# Transform local refs to s3 refs"
   ]
  },
  {
   "cell_type": "code",
   "execution_count": null,
   "id": "eb9ca2aa-0aaf-4f13-960d-fe5c9d8150b9",
   "metadata": {
    "tags": []
   },
   "outputs": [],
   "source": [
    "import fsspec\n",
    "from kerchunk.utils import rename_target_files"
   ]
  },
  {
   "cell_type": "code",
   "execution_count": null,
   "id": "72c5b454-d39d-49d6-afd8-b1f16aed4251",
   "metadata": {
    "tags": []
   },
   "outputs": [],
   "source": [
    "rename_target_files('combined64.json',\n",
    "                   {'/shared/users/rsignell/data/jzambon/nc64/his_20231027.nc':'s3://rsignellbucket1/jzambon/his_20231027.nc',\n",
    "                    '/shared/users/rsignell/data/jzambon/nc64/his_20231029.nc':'s3://rsignellbucket1/jzambon/his_20231029.nc',\n",
    "                    '/shared/users/rsignell/data/jzambon/nc64/his_20231030.nc':'s3://rsignellbucket1/jzambon/his_20231030.nc',\n",
    "                    '/shared/users/rsignell/data/jzambon/nc64/his_20231031.nc':'s3://rsignellbucket1/jzambon/his_20231031.nc'},\n",
    "                    'combined64_s3.json')"
   ]
  },
  {
   "cell_type": "code",
   "execution_count": null,
   "id": "8bbdbc5e-3f6f-4483-adf8-deca371de1ae",
   "metadata": {
    "tags": []
   },
   "outputs": [],
   "source": [
    "fs_m = fsspec.filesystem('s3',profile='osn-mghp', client_kwargs={'endpoint_url':'https://mghp.osn.xsede.org'})"
   ]
  },
  {
   "cell_type": "code",
   "execution_count": null,
   "id": "3fcdcf70-8e04-4efc-ab97-b263d669ed14",
   "metadata": {
    "tags": []
   },
   "outputs": [],
   "source": [
    "fs_m.upload('combined64_s3.json', 'rsignellbucket1/jzambon/archive64.json')"
   ]
  },
  {
   "cell_type": "code",
   "execution_count": null,
   "id": "2b9d45b1-77a3-46cc-9eff-e2b32691b1cf",
   "metadata": {},
   "outputs": [],
   "source": [
    "fs_m.upload('cnaps.yml', 'rsignellbucket1/jzambon/cnaps.yml')"
   ]
  },
  {
   "cell_type": "code",
   "execution_count": null,
   "id": "2b12052a-6beb-4224-b2fe-a99ab45ec179",
   "metadata": {},
   "outputs": [],
   "source": []
  }
 ],
 "metadata": {
  "kernelspec": {
   "display_name": "global-global-pangeo",
   "language": "python",
   "name": "conda-env-global-global-pangeo-py"
  },
  "language_info": {
   "codemirror_mode": {
    "name": "ipython",
    "version": 3
   },
   "file_extension": ".py",
   "mimetype": "text/x-python",
   "name": "python",
   "nbconvert_exporter": "python",
   "pygments_lexer": "ipython3",
   "version": "3.10.13"
  }
 },
 "nbformat": 4,
 "nbformat_minor": 5
}
