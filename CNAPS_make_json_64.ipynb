{
 "cells": [
  {
   "cell_type": "markdown",
   "id": "5b86af71-052b-4081-844b-779db459068d",
   "metadata": {},
   "source": [
    "# CNAPS RerenceFileSystem JSON  64 bit\n",
    "Create ReferenceFileSystem JSON file for a collection of COAWST NetCDF 3 64 bit files on S3 "
   ]
  },
  {
   "cell_type": "code",
   "execution_count": null,
   "id": "3b6ba617-9772-4ecf-aa7a-2be2a4bcfa1d",
   "metadata": {
    "tags": []
   },
   "outputs": [],
   "source": [
    "import os\n",
    "import fsspec\n",
    "import ujson   # fast json\n",
    "from kerchunk.netCDF3 import NetCDF3ToZarr\n",
    "from kerchunk.combine import MultiZarrToZarr, auto_dask, JustLoad\n",
    "from pathlib import Path\n",
    "import xarray as xr\n",
    "import cf_xarray\n",
    "import dask\n",
    "import hvplot.xarray"
   ]
  },
  {
   "cell_type": "code",
   "execution_count": null,
   "id": "1d1a21f3-9b38-4221-bcab-c118f7917a21",
   "metadata": {
    "tags": []
   },
   "outputs": [],
   "source": [
    "fs_read = fsspec.filesystem('file')"
   ]
  },
  {
   "cell_type": "code",
   "execution_count": null,
   "id": "ab8fba1b-541a-45a3-b091-53fdbed2adf4",
   "metadata": {
    "tags": []
   },
   "outputs": [],
   "source": [
    "nc_list = fs_read.glob('/shared/users/rsignell/data/jzambon/nc64/his_????????.nc')\n",
    "nc_list"
   ]
  },
  {
   "cell_type": "code",
   "execution_count": null,
   "id": "b7734e0e-85d2-4b42-81b6-79acd890b79f",
   "metadata": {
    "tags": []
   },
   "outputs": [],
   "source": [
    "# try opening a file:\n",
    "# xr.open_dataset(fs_read.open(nc_list[0]))    # netCDF4 files can be opened directly from a bucket, but not NetCDF3 files"
   ]
  },
  {
   "cell_type": "code",
   "execution_count": null,
   "id": "2ed12a73-7510-4c06-85dd-0b120c98d24d",
   "metadata": {
    "tags": []
   },
   "outputs": [],
   "source": [
    "print(nc_list[0])\n",
    "print(nc_list[-1])"
   ]
  },
  {
   "cell_type": "code",
   "execution_count": null,
   "id": "37cf61de-7fbc-4b72-a877-40a64062051f",
   "metadata": {
    "tags": []
   },
   "outputs": [],
   "source": [
    "json_dir = '/shared/users/rsignell/data/jzambon/jsons/'"
   ]
  },
  {
   "cell_type": "code",
   "execution_count": null,
   "id": "858055a4-4963-4c49-9203-0e4f2da3c6b3",
   "metadata": {
    "tags": []
   },
   "outputs": [],
   "source": [
    "json_list = fs_read.glob(f'{json_dir}*.json')\n",
    "print(len(json_list))\n",
    "if len(json_list)>0:\n",
    "    print(json_list[0])\n",
    "    print(json_list[-1])"
   ]
  },
  {
   "cell_type": "code",
   "execution_count": null,
   "id": "c107fdf8-b3eb-4944-9075-b7b4ef8e59f9",
   "metadata": {
    "tags": []
   },
   "outputs": [],
   "source": [
    "nc_processed_list = [j.split('.json')[0].replace('/jsons','') for j in json_list]\n",
    "if len(nc_processed_list)>0:\n",
    "    print(nc_processed_list[0])\n",
    "    print(nc_processed_list[-1])"
   ]
  },
  {
   "cell_type": "code",
   "execution_count": null,
   "id": "42d69305-3c28-4228-963e-99ac8775dbbc",
   "metadata": {
    "tags": []
   },
   "outputs": [],
   "source": [
    "nc_process_list = list(set(nc_list) - set(nc_processed_list))\n",
    "print(len(nc_process_list))\n",
    "print(nc_process_list[0])\n",
    "print(nc_process_list[-1])"
   ]
  },
  {
   "cell_type": "markdown",
   "id": "a1d79e1a-98b4-4362-ba0c-77b1c86537c4",
   "metadata": {},
   "source": [
    "Generate references in memory, returning a dict"
   ]
  },
  {
   "cell_type": "code",
   "execution_count": null,
   "id": "1cb918bb-7c9e-4bae-8eba-19c49ce3f150",
   "metadata": {
    "tags": []
   },
   "outputs": [],
   "source": [
    "def gen_ref(f):\n",
    "    with fs_read.open(f) as infile:\n",
    "        return NetCDF3ToZarr(infile, f, inline_threshold=300, version=2).translate()"
   ]
  },
  {
   "cell_type": "markdown",
   "id": "b78b38f1-f03c-41b8-a50c-33a24ee37552",
   "metadata": {
    "tags": []
   },
   "source": [
    "Test one file:"
   ]
  },
  {
   "cell_type": "code",
   "execution_count": null,
   "id": "9fb2005c-af59-4273-9150-2cfa75cac8a6",
   "metadata": {
    "tags": []
   },
   "outputs": [],
   "source": [
    "d = NetCDF3ToZarr(nc_process_list[0], inline_threshold=300, version=2).translate()"
   ]
  },
  {
   "cell_type": "code",
   "execution_count": null,
   "id": "cde94da9-5a43-47fd-902c-074f6cb08ec6",
   "metadata": {
    "tags": []
   },
   "outputs": [],
   "source": [
    "skip_instance_cache=True"
   ]
  },
  {
   "cell_type": "code",
   "execution_count": null,
   "id": "3422fb36-2940-4b82-a4b1-dc5afabd722b",
   "metadata": {
    "tags": []
   },
   "outputs": [],
   "source": [
    "fs5 = fsspec.filesystem(\"reference\", fo=d,\n",
    "                       skip_instance_cache=True)\n",
    "m = fs5.get_mapper(\"\")"
   ]
  },
  {
   "cell_type": "code",
   "execution_count": null,
   "id": "3ab10a1c-0ff1-4aeb-bc9f-fa68decea7ca",
   "metadata": {
    "tags": []
   },
   "outputs": [],
   "source": [
    "ds = xr.open_dataset(m, engine=\"zarr\", chunks={}, \n",
    "                     backend_kwargs=dict(consolidated=False))"
   ]
  },
  {
   "cell_type": "code",
   "execution_count": null,
   "id": "7bedc6b4-3ded-4627-aa05-44ddb97161b9",
   "metadata": {
    "tags": []
   },
   "outputs": [],
   "source": [
    "ds.Hwave.hvplot.quadmesh(x='lon_rho', y='lat_rho', rasterize=True, geo=True, cmap='turbo', clim=(0,5))"
   ]
  },
  {
   "cell_type": "markdown",
   "id": "d101115f-cc9f-40a1-85ca-788e298817f1",
   "metadata": {},
   "source": [
    "#### Parallel creation of JSON for each file using Dask Futures"
   ]
  },
  {
   "cell_type": "markdown",
   "id": "ff7e9881-adac-4b6e-a9fd-4ac5a48efe28",
   "metadata": {},
   "source": [
    "Use local cluster as files are local -- Dask Gateway workers can't see local filesystem"
   ]
  },
  {
   "cell_type": "code",
   "execution_count": null,
   "id": "dbe13d30-b301-4cce-b6e6-022c0494b258",
   "metadata": {
    "tags": []
   },
   "outputs": [],
   "source": [
    "from dask.distributed import Client"
   ]
  },
  {
   "cell_type": "code",
   "execution_count": null,
   "id": "49771285-47b7-409f-8094-29b72408493d",
   "metadata": {
    "tags": []
   },
   "outputs": [],
   "source": [
    "client = Client()"
   ]
  },
  {
   "cell_type": "code",
   "execution_count": null,
   "id": "fc2c79b4-48bb-4937-8653-0884e53400ed",
   "metadata": {
    "tags": []
   },
   "outputs": [],
   "source": [
    "import dask.bag as db\n",
    "bag = db.from_sequence(nc_process_list, npartitions=len(nc_process_list)).map(gen_ref)"
   ]
  },
  {
   "cell_type": "code",
   "execution_count": null,
   "id": "559509f1-8de0-4f91-babe-4f51423c92c8",
   "metadata": {
    "tags": []
   },
   "outputs": [],
   "source": [
    "bag.visualize()"
   ]
  },
  {
   "cell_type": "code",
   "execution_count": null,
   "id": "3debcfcb-44f7-406d-a0cd-fc06d64bbbe3",
   "metadata": {
    "tags": []
   },
   "outputs": [],
   "source": [
    "%time dicts = bag.compute()"
   ]
  },
  {
   "cell_type": "code",
   "execution_count": null,
   "id": "2a9230ac-efcb-451d-8f6b-6a273190d2cc",
   "metadata": {
    "tags": []
   },
   "outputs": [],
   "source": [
    "d = []\n",
    "for f in nc_process_list:\n",
    "    dt = NetCDF3ToZarr(nc_process_list[0], inline_threshold=300, version=2).translate()\n",
    "    d.append(dt)"
   ]
  },
  {
   "cell_type": "code",
   "execution_count": null,
   "id": "e35cefea-7d02-44f5-aa1f-a26d4e607be6",
   "metadata": {
    "tags": []
   },
   "outputs": [],
   "source": [
    "import zarr\n",
    "\n",
    "def modify_metadata(out):\n",
    "    g = zarr.open(out)    \n",
    "    for n, v in g.arrays():\n",
    "        if len(v.shape)>1:\n",
    "            v.fill_value = 1.e+37\n",
    "    g.ocean_time.attrs['standard_name'] = 'time'\n",
    "    return out\n",
    "    \n",
    "def postprocess(out):\n",
    "    out = modify_metadata(out)\n",
    "    return out"
   ]
  },
  {
   "cell_type": "code",
   "execution_count": null,
   "id": "656806ce-ae44-4bbd-b54f-d8ad00f23011",
   "metadata": {},
   "outputs": [],
   "source": [
    "len(d)"
   ]
  },
  {
   "cell_type": "code",
   "execution_count": null,
   "id": "df13be9b-d569-4fa4-96f8-2cc4fb63bf8d",
   "metadata": {
    "tags": []
   },
   "outputs": [],
   "source": [
    "mzz = MultiZarrToZarr(\n",
    "    d,\n",
    "    concat_dims='ocean_time',\n",
    "    inline_threshold=500,\n",
    "    identical_dims=['lat_psi','lat_rho','lat_u','lat_v',\n",
    "                                'lon_psi','lon_rho','lon_u','lon_v'],\n",
    "    #postprocess=postprocess   \n",
    ")"
   ]
  },
  {
   "cell_type": "code",
   "execution_count": null,
   "id": "3f3f86ff-a474-403e-82a2-da503089f6f5",
   "metadata": {
    "tags": []
   },
   "outputs": [],
   "source": [
    "%time mzz.translate('./combined.json')"
   ]
  },
  {
   "cell_type": "markdown",
   "id": "28a79d34-a9eb-42a2-9636-111cceabb980",
   "metadata": {},
   "source": [
    "Update the json_list with the new files and convert to s3 urls"
   ]
  },
  {
   "cell_type": "code",
   "execution_count": null,
   "id": "5f5a5f1e-b686-4f4e-aada-951bc6c9222c",
   "metadata": {
    "tags": []
   },
   "outputs": [],
   "source": [
    "json_list = fs_read.glob(f'{json_dir}*.json')\n",
    "json_list = [f's3://{j}' for j in json_list]"
   ]
  },
  {
   "cell_type": "markdown",
   "id": "5ba64f09-5cd2-4057-bac9-653705c384e9",
   "metadata": {},
   "source": [
    "Examine the resulting dataset"
   ]
  },
  {
   "cell_type": "code",
   "execution_count": null,
   "id": "d6331ade-d868-4702-9695-d594db9948a6",
   "metadata": {
    "tags": []
   },
   "outputs": [],
   "source": [
    "fs5 = fsspec.filesystem(\"reference\", fo='combined.json',\n",
    "                       skip_instance_cache=True)\n",
    "m = fs5.get_mapper(\"\")"
   ]
  },
  {
   "cell_type": "code",
   "execution_count": null,
   "id": "ca9a293d-a77e-4eae-9fd2-9b0d1604e36b",
   "metadata": {
    "tags": []
   },
   "outputs": [],
   "source": [
    "fs5.ls('temp')"
   ]
  },
  {
   "cell_type": "code",
   "execution_count": null,
   "id": "59ee6076-2e06-4af5-8254-2697943286a9",
   "metadata": {
    "tags": []
   },
   "outputs": [],
   "source": [
    "ds = xr.open_dataset(m, engine=\"zarr\", chunks={}, \n",
    "                     backend_kwargs=dict(consolidated=False))"
   ]
  },
  {
   "cell_type": "code",
   "execution_count": null,
   "id": "541467bf-a363-4b94-8377-a4286529cd8d",
   "metadata": {
    "tags": []
   },
   "outputs": [],
   "source": [
    "ds"
   ]
  },
  {
   "cell_type": "markdown",
   "id": "0780aee2-e817-4597-9437-7667e8ed4d9b",
   "metadata": {},
   "source": [
    "Use CF conventions to select times"
   ]
  },
  {
   "cell_type": "code",
   "execution_count": null,
   "id": "0263ac55-b239-4424-a61f-07f13e871d09",
   "metadata": {},
   "outputs": [],
   "source": [
    "ds.cf.isel(time=-1)"
   ]
  },
  {
   "cell_type": "markdown",
   "id": "efc7cab7-345e-4af3-a2b5-5e9ed3ce052c",
   "metadata": {},
   "source": [
    "Write combined JSON to S3"
   ]
  },
  {
   "cell_type": "code",
   "execution_count": null,
   "id": "fc2d4dea-b332-459d-b23f-130fc8a283c9",
   "metadata": {},
   "outputs": [],
   "source": [
    "combined_json = 's3://rsignellbucket1/cnaps/archive.json'"
   ]
  },
  {
   "cell_type": "code",
   "execution_count": null,
   "id": "07cab3c9-83ed-4e8b-b31b-8d9d1f55193e",
   "metadata": {},
   "outputs": [],
   "source": [
    "%%time\n",
    "with fs_write.open(combined_json, 'wb') as f:\n",
    "    f.write(ujson.dumps(d).encode());"
   ]
  },
  {
   "cell_type": "code",
   "execution_count": null,
   "id": "19ee9e84-8b8d-4c59-b3c5-dc33a3e2822b",
   "metadata": {},
   "outputs": [],
   "source": [
    "fs_write.size(combined_json)/1e6  # combined JSON size in MB"
   ]
  },
  {
   "cell_type": "code",
   "execution_count": null,
   "id": "bdcdd78d-4130-46a4-bc7d-befd0048b4bc",
   "metadata": {},
   "outputs": [],
   "source": [
    "fs_write.info(combined_json)"
   ]
  },
  {
   "cell_type": "markdown",
   "id": "503a75b0-4577-47d3-9f97-825e83a18776",
   "metadata": {},
   "source": [
    "#### Try opening the consolidated JSON file from S3"
   ]
  },
  {
   "cell_type": "code",
   "execution_count": null,
   "id": "8918a33d-c040-42cd-85bc-fe00e2eb11dc",
   "metadata": {},
   "outputs": [],
   "source": [
    "# repeating lines from above for convenience in case notebook is started here:\n",
    "combined_json = 's3://rsignellbucket1/cnaps/archive.json'\n",
    "opts = dict(anon=True, client_kwargs={'endpoint_url': 'https://mghp.osn.xsede.org'})"
   ]
  },
  {
   "cell_type": "code",
   "execution_count": null,
   "id": "f7f580ce-9168-431b-aa40-733f38ab2f96",
   "metadata": {
    "tags": []
   },
   "outputs": [],
   "source": [
    "%%time\n",
    "fs5 = fsspec.filesystem(\"reference\", fo=combined_json, target_options=opts,\n",
    "                       remote_protocol='s3', remote_options=opts,\n",
    "                       skip_instance_cache=True)\n",
    "m = fs5.get_mapper(\"\")\n",
    "ds = xr.open_dataset(m, engine=\"zarr\", chunks={}, \n",
    "                     backend_kwargs=dict(consolidated=False))"
   ]
  },
  {
   "cell_type": "code",
   "execution_count": null,
   "id": "5c30852b-012d-4673-9368-35dff733f8fa",
   "metadata": {},
   "outputs": [],
   "source": []
  },
  {
   "cell_type": "code",
   "execution_count": null,
   "id": "d045648b-9355-403c-9a01-28e5acf6773d",
   "metadata": {},
   "outputs": [],
   "source": [
    "#fs5 = fsspec.filesystem(\"reference\", fo=json_list[-1], target_options=opts,\n",
    "#                       remote_protocol='s3', remote_options=opts)\n",
    "#m = fs5.get_mapper(\"\")\n",
    "#ds = xr.open_dataset(m, engine=\"zarr\", chunks={'ocean_time':12}, \n",
    "#                     backend_kwargs=dict(consolidated=False))"
   ]
  },
  {
   "cell_type": "code",
   "execution_count": null,
   "id": "2c615e12-3e9d-4175-8ab2-b512c4b9a221",
   "metadata": {},
   "outputs": [],
   "source": [
    "ds.salt"
   ]
  },
  {
   "cell_type": "code",
   "execution_count": null,
   "id": "1fa33b23-d0f3-4d09-a595-c6e9dcaf81d5",
   "metadata": {},
   "outputs": [],
   "source": [
    "%%time\n",
    "da = ds['temp'][-10:,-1,:,:].load()"
   ]
  },
  {
   "cell_type": "code",
   "execution_count": null,
   "id": "bc9ccf42-7f45-4d62-9a25-5deea881a7a3",
   "metadata": {},
   "outputs": [],
   "source": [
    "lon_name = da.cf['longitude'].name\n",
    "lat_name = da.cf['latitude'].name\n",
    "\n",
    "da.hvplot.quadmesh(x=lon_name, y=lat_name, geo=True, cmap='turbo', tiles='OSM', rasterize=True)"
   ]
  },
  {
   "cell_type": "code",
   "execution_count": null,
   "id": "5ecffc6e-6510-492d-9eff-e2a5a481d1a0",
   "metadata": {},
   "outputs": [],
   "source": [
    "da[:,150,150].hvplot(x='ocean_time', grid=True)"
   ]
  },
  {
   "cell_type": "code",
   "execution_count": null,
   "id": "5d3c7d11-8878-401b-a5c3-309f60d1de87",
   "metadata": {},
   "outputs": [],
   "source": [
    "client.close(); cluster.shutdown()"
   ]
  },
  {
   "cell_type": "code",
   "execution_count": null,
   "id": "9372b00f-99fe-47ab-b059-81a6e3ca4fef",
   "metadata": {},
   "outputs": [],
   "source": []
  }
 ],
 "metadata": {
  "kernelspec": {
   "display_name": "global-global-pangeo",
   "language": "python",
   "name": "conda-env-global-global-pangeo-py"
  },
  "language_info": {
   "codemirror_mode": {
    "name": "ipython",
    "version": 3
   },
   "file_extension": ".py",
   "mimetype": "text/x-python",
   "name": "python",
   "nbconvert_exporter": "python",
   "pygments_lexer": "ipython3",
   "version": "3.10.13"
  }
 },
 "nbformat": 4,
 "nbformat_minor": 5
}
