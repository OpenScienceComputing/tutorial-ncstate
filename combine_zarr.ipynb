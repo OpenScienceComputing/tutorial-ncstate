{
 "cells": [
  {
   "cell_type": "markdown",
   "id": "5b8566eb-1119-4cbf-bd84-0903ed901a44",
   "metadata": {},
   "source": [
    "# Combine yearly CNAPS zarr datasets with kerchunk, save as Parquet"
   ]
  },
  {
   "cell_type": "code",
   "execution_count": null,
   "id": "7b48990c-de9a-4ff5-8c50-6c1bb0fc7551",
   "metadata": {
    "tags": []
   },
   "outputs": [],
   "source": [
    "import fsspec\n",
    "import numpy as np\n",
    "import zarr\n",
    "import xarray as xr\n",
    "\n",
    "import kerchunk.combine\n",
    "import kerchunk.zarr\n",
    "\n",
    "from kerchunk.combine import MultiZarrToZarr\n",
    "from fsspec.implementations.reference import LazyReferenceMapper"
   ]
  },
  {
   "cell_type": "code",
   "execution_count": null,
   "id": "5c50436a-7f3a-4359-a9f8-5a3b418f6728",
   "metadata": {
    "tags": []
   },
   "outputs": [],
   "source": [
    "fs = fsspec.filesystem('s3', anon=True, \n",
    "                       client_kwargs=dict(endpoint_url='https://mghp.osn.xsede.org'))"
   ]
  },
  {
   "cell_type": "markdown",
   "id": "a935c3e2-e0ae-4df3-9849-6465dc906856",
   "metadata": {},
   "source": [
    "#### List all Zarr datasets"
   ]
  },
  {
   "cell_type": "code",
   "execution_count": null,
   "id": "610c9bfc-a405-421a-a33f-a4715a48ced3",
   "metadata": {
    "tags": []
   },
   "outputs": [],
   "source": [
    "flist = fs.glob('s3://rsignellbucket1/rsignell/CNAPS/xbitinfo-zarr/useast_avg_*_999.zarr')"
   ]
  },
  {
   "cell_type": "markdown",
   "id": "d6be53de-814a-464b-952e-2eb04a7260a1",
   "metadata": {},
   "source": [
    "#### Create references for each zarr dataset\n",
    "(do just first three for now)"
   ]
  },
  {
   "cell_type": "code",
   "execution_count": null,
   "id": "db583d6f-4f74-488c-8e6a-ed3551739c05",
   "metadata": {
    "tags": []
   },
   "outputs": [],
   "source": [
    "opts = dict(anon=True, client_kwargs={'endpoint_url': 'https://mghp.osn.xsede.org'})\n",
    "so=dict(remote_protocol='s3', remote_options=opts, target_options=opts)"
   ]
  },
  {
   "cell_type": "code",
   "execution_count": null,
   "id": "0b19c3b2-a0a3-4b50-9f82-09686e1c6b0e",
   "metadata": {
    "tags": []
   },
   "outputs": [],
   "source": [
    "%%time\n",
    "ref_list = [kerchunk.zarr.single_zarr(fs.get_mapper(f), inline_threshold=300, storage_options=so) for f in flist]"
   ]
  },
  {
   "cell_type": "markdown",
   "id": "59cdb969-3e57-4a77-a35f-c0ec58114804",
   "metadata": {},
   "source": [
    "#### open one set of references, calculate identical dims"
   ]
  },
  {
   "cell_type": "code",
   "execution_count": null,
   "id": "6e2aa3e7-a84b-4e82-92cb-6320824053c1",
   "metadata": {
    "tags": []
   },
   "outputs": [],
   "source": [
    "ds = xr.open_dataset(ref_list[0], engine=\"kerchunk\", chunks={}, storage_options=so)"
   ]
  },
  {
   "cell_type": "code",
   "execution_count": null,
   "id": "1bf18714-82b8-462a-a51c-0280884c6dc3",
   "metadata": {
    "tags": []
   },
   "outputs": [],
   "source": [
    "identical_dims = []\n",
    "for v in ds.variables.keys():\n",
    "    if 'ocean_time' not in ds[v].dims:\n",
    "        identical_dims.append(v)"
   ]
  },
  {
   "cell_type": "code",
   "execution_count": null,
   "id": "d2db3c78-4ee8-4f64-99a5-33012ef91396",
   "metadata": {
    "tags": []
   },
   "outputs": [],
   "source": [
    "import zarr\n",
    "\n",
    "def modify_attrs(refs):\n",
    "    tmp= zarr.open(refs)\n",
    "    tmp.ocean_time.attrs['standard_name'] = 'time'\n",
    "    return refs\n",
    "\n",
    "def postprocess(refs):\n",
    "    refs = modify_attrs(refs)\n",
    "    return refs\n",
    "\n",
    "def preprocess(refs):\n",
    "    for k in list(refs):\n",
    "        if k=='dstart':  # drop the \"dstart\" variable\n",
    "            refs.pop(k)\n",
    "    return refs"
   ]
  },
  {
   "cell_type": "markdown",
   "id": "bdab9ce5-6b72-4275-9b9a-1d8890646ac1",
   "metadata": {},
   "source": [
    "#### Create combined parquet references"
   ]
  },
  {
   "cell_type": "code",
   "execution_count": null,
   "id": "b585fc5e-b8b7-4cae-baf2-3148e5869063",
   "metadata": {
    "tags": []
   },
   "outputs": [],
   "source": [
    "combined_parquet = 'combined.parq'\n",
    "\n",
    "fs_local = fsspec.filesystem(\"file\")\n",
    "fs_local.makedirs(combined_parquet, exist_ok=True)"
   ]
  },
  {
   "cell_type": "code",
   "execution_count": null,
   "id": "097189d2-cbf1-490e-bf89-4610e0c04891",
   "metadata": {
    "tags": []
   },
   "outputs": [],
   "source": [
    "out = LazyReferenceMapper.create(combined_parquet, fs=fs_local, record_size=100000)"
   ]
  },
  {
   "cell_type": "code",
   "execution_count": null,
   "id": "07063195-3f65-4cad-80e3-596e2c184252",
   "metadata": {
    "tags": []
   },
   "outputs": [],
   "source": [
    "%%time\n",
    "_ = MultiZarrToZarr(\n",
    "        ref_list,\n",
    "        remote_protocol=\"s3\",\n",
    "        remote_options=opts,\n",
    "        concat_dims=[\"ocean_time\"],\n",
    "        coo_map={\"ocean_time\": \"cf:ocean_time\"},\n",
    "        identical_dims=identical_dims,\n",
    "        preprocess=preprocess,\n",
    "        postprocess=postprocess,\n",
    "        out=out).translate()\n",
    "out.flush()"
   ]
  },
  {
   "cell_type": "code",
   "execution_count": null,
   "id": "e7dfc732-5551-463a-a081-f0d8df5b7958",
   "metadata": {},
   "outputs": [],
   "source": [
    "combined_parquet_osn = 's3://rsignellbucket1/rsignell/CNAPS/combined.parq'"
   ]
  },
  {
   "cell_type": "code",
   "execution_count": null,
   "id": "d5e669ad-6329-43ff-a040-d061dd2922f2",
   "metadata": {
    "tags": []
   },
   "outputs": [],
   "source": [
    "ds = xr.open_dataset(combined_parquet, engine=\"kerchunk\", chunks={},\n",
    "            storage_options=dict(remote_protocol='s3', remote_options=opts, target_options=opts, lazy=True))"
   ]
  },
  {
   "cell_type": "code",
   "execution_count": null,
   "id": "2b57b49d-ada9-45e5-af4a-45bd3162b5ab",
   "metadata": {
    "tags": []
   },
   "outputs": [],
   "source": [
    "fs_write = fsspec.filesystem('s3', profile='osn-rsignellbucket1', \n",
    "                       client_kwargs=dict(endpoint_url='https://mghp.osn.xsede.org'))"
   ]
  },
  {
   "cell_type": "code",
   "execution_count": null,
   "id": "022dce73-1527-419a-af87-376b1599b394",
   "metadata": {},
   "outputs": [],
   "source": [
    "_ = fs_write.upload(combined_parquet, combined_parquet_osn, recursive=True)"
   ]
  },
  {
   "cell_type": "code",
   "execution_count": null,
   "id": "d2c7f4bc-233e-455a-b235-c696ec19b957",
   "metadata": {},
   "outputs": [],
   "source": [
    "fs_write.upload('cnaps_intake.yml', 's3://rsignellbucket1/rsignell/CNAPS/cnaps_intake.yml')"
   ]
  },
  {
   "cell_type": "code",
   "execution_count": null,
   "id": "91e5629f-27ba-416a-bd57-ce97f2c74b30",
   "metadata": {},
   "outputs": [],
   "source": [
    "fs_write.info('s3://rsignellbucket1/rsignell/CNAPS/cnaps_intake.yml')"
   ]
  },
  {
   "cell_type": "code",
   "execution_count": null,
   "id": "1336c1e6-d555-465a-b96d-4cda178b338d",
   "metadata": {},
   "outputs": [],
   "source": []
  }
 ],
 "metadata": {
  "kernelspec": {
   "display_name": "global-global-pangeo2",
   "language": "python",
   "name": "conda-env-global-global-pangeo2-py"
  },
  "language_info": {
   "codemirror_mode": {
    "name": "ipython",
    "version": 3
   },
   "file_extension": ".py",
   "mimetype": "text/x-python",
   "name": "python",
   "nbconvert_exporter": "python",
   "pygments_lexer": "ipython3",
   "version": "3.11.6"
  }
 },
 "nbformat": 4,
 "nbformat_minor": 5
}
