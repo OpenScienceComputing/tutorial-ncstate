{
 "cells": [
  {
   "cell_type": "markdown",
   "id": "ee692858-296e-4252-b865-6706c60d49d3",
   "metadata": {},
   "source": [
    "# Transform local refs to s3 refs"
   ]
  },
  {
   "cell_type": "code",
   "execution_count": null,
   "id": "eb9ca2aa-0aaf-4f13-960d-fe5c9d8150b9",
   "metadata": {
    "tags": []
   },
   "outputs": [],
   "source": [
    "import fsspec\n",
    "from kerchunk.utils import rename_target_files"
   ]
  },
  {
   "cell_type": "code",
   "execution_count": null,
   "id": "72c5b454-d39d-49d6-afd8-b1f16aed4251",
   "metadata": {
    "tags": []
   },
   "outputs": [],
   "source": [
    "rename_target_files('combined.json',\n",
    "                    {'/shared/users/rsignell/data/jzambon/nc64/':'s3://rsignellbucket1/jzambon/'},\n",
    "                    'combined_s3.json')"
   ]
  },
  {
   "cell_type": "code",
   "execution_count": null,
   "id": "f6460192-bbdd-4752-b53f-9a1e684d90c0",
   "metadata": {
    "tags": []
   },
   "outputs": [],
   "source": [
    "fs_m = fsspec.filesystem('s3',profile='osn-mghp', client_kwargs={'endpoint_url':'https://mghp.osn.xsede.org'})\n",
    "fs_m.upload('combined_s3.json', 'rsignellbucket1/cnaps/archive64.json')"
   ]
  },
  {
   "cell_type": "code",
   "execution_count": null,
   "id": "632bd252-4bff-4bc3-a9ab-df89240bf39f",
   "metadata": {},
   "outputs": [],
   "source": []
  }
 ],
 "metadata": {
  "kernelspec": {
   "display_name": "global-global-pangeo",
   "language": "python",
   "name": "conda-env-global-global-pangeo-py"
  },
  "language_info": {
   "codemirror_mode": {
    "name": "ipython",
    "version": 3
   },
   "file_extension": ".py",
   "mimetype": "text/x-python",
   "name": "python",
   "nbconvert_exporter": "python",
   "pygments_lexer": "ipython3",
   "version": "3.10.13"
  }
 },
 "nbformat": 4,
 "nbformat_minor": 5
}
