{
 "cells": [
  {
   "cell_type": "markdown",
   "id": "27a470e4-adaf-4582-b07b-50aa02fbfc7f",
   "metadata": {},
   "source": [
    "# Global XBT 1-week\n",
    "Get Global XBT data using ERDDAP from [Copernicus Global Ocean Services](https://data.marine.copernicus.eu/product/INSITU_GLO_PHYBGCWAV_DISCRETE_MYNRT_013_030/services)\n",
    "``` \n",
    "wget -O xbt.nc \"https://nrt.cmems-du.eu/erddap/tabledap/copernicus_GLO_insitu_nrt_XB.ncCFMA?PLATFORM_NAME%2CPLATFORM_CODE%2CINSTITUTION%2CINSTITUTION_EDMO_CODE%2Ctime%2CTIME_QC%2Clatitude%2Clongitude%2CPOSITION_QC%2CDC_REFERENCE%2CDATA_MODE%2CDIRECTION%2CDEPH%2CDEPH_QC%2CTEMP%2CTEMP_QC&time%3E=2023-10-23T00%3A00%3A00Z&time%3C=2023-10-30T11%3A57%3A00Z\"\n",
    "```"
   ]
  },
  {
   "cell_type": "code",
   "execution_count": null,
   "id": "3b78f29c-dd35-4083-ae2d-32038acef0c5",
   "metadata": {
    "tags": []
   },
   "outputs": [],
   "source": [
    "import xarray as xr\n",
    "import hvplot.xarray"
   ]
  },
  {
   "cell_type": "code",
   "execution_count": null,
   "id": "e01b3e7a-aab9-4a90-99ea-f238898e88ea",
   "metadata": {
    "tags": []
   },
   "outputs": [],
   "source": [
    "ds = xr.open_dataset('xbt.nc')"
   ]
  },
  {
   "cell_type": "code",
   "execution_count": null,
   "id": "236a2375-fcde-4089-b466-e4e37ed7e5a1",
   "metadata": {
    "tags": []
   },
   "outputs": [],
   "source": [
    "ds"
   ]
  },
  {
   "cell_type": "code",
   "execution_count": null,
   "id": "3ede8c9f-60ee-4586-a934-91bf11fba158",
   "metadata": {
    "tags": []
   },
   "outputs": [],
   "source": [
    "ds['TEMP'].hvplot(y='DEPH', grid=True).opts(invert_yaxis=True)"
   ]
  },
  {
   "cell_type": "code",
   "execution_count": null,
   "id": "698d5ead-806d-48ff-ad7c-bb7c20cf0400",
   "metadata": {},
   "outputs": [],
   "source": []
  }
 ],
 "metadata": {
  "kernelspec": {
   "display_name": "nebari-git-nebari-git-pangeo2",
   "language": "python",
   "name": "conda-env-nebari-git-nebari-git-pangeo2-py"
  },
  "language_info": {
   "codemirror_mode": {
    "name": "ipython",
    "version": 3
   },
   "file_extension": ".py",
   "mimetype": "text/x-python",
   "name": "python",
   "nbconvert_exporter": "python",
   "pygments_lexer": "ipython3",
   "version": "3.10.8"
  }
 },
 "nbformat": 4,
 "nbformat_minor": 5
}
