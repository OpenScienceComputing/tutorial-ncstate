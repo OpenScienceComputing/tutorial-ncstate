{
 "cells": [
  {
   "cell_type": "markdown",
   "id": "ee692858-296e-4252-b865-6706c60d49d3",
   "metadata": {},
   "source": [
    "# Transform local refs to s3 refs"
   ]
  },
  {
   "cell_type": "code",
   "execution_count": null,
   "id": "eb9ca2aa-0aaf-4f13-960d-fe5c9d8150b9",
   "metadata": {
    "tags": []
   },
   "outputs": [],
   "source": [
    "import fsspec\n",
    "from kerchunk.utils import rename_target_files"
   ]
  },
  {
   "cell_type": "code",
   "execution_count": null,
   "id": "4a94a27a-05a5-4920-9887-d37b5fddf90c",
   "metadata": {
    "tags": []
   },
   "outputs": [],
   "source": [
    "local = '/shared/users/rsignell/data/jzambon/nc64/'\n",
    "cloud = 's3://rsignellbucket1/jzambon/'"
   ]
  },
  {
   "cell_type": "code",
   "execution_count": null,
   "id": "d8a7c3b1-88f4-4151-b799-58bd1bb5dcd3",
   "metadata": {
    "tags": []
   },
   "outputs": [],
   "source": [
    "fs_local = fsspec.filesystem('file')"
   ]
  },
  {
   "cell_type": "code",
   "execution_count": null,
   "id": "8bbdbc5e-3f6f-4483-adf8-deca371de1ae",
   "metadata": {
    "tags": []
   },
   "outputs": [],
   "source": [
    "fs_cloud = fsspec.filesystem('s3',profile='osn-mghp', client_kwargs={'endpoint_url':'https://mghp.osn.xsede.org'})"
   ]
  },
  {
   "cell_type": "code",
   "execution_count": null,
   "id": "2b12052a-6beb-4224-b2fe-a99ab45ec179",
   "metadata": {},
   "outputs": [],
   "source": [
    "d = {k: k.replace(local,cloud) for k in fs.glob(f'{local}/*.nc')}\n",
    "d"
   ]
  },
  {
   "cell_type": "code",
   "execution_count": null,
   "id": "72c5b454-d39d-49d6-afd8-b1f16aed4251",
   "metadata": {
    "tags": []
   },
   "outputs": [],
   "source": [
    "rename_target_files('combined64.json', d, 'combined64_s3.json')"
   ]
  },
  {
   "cell_type": "code",
   "execution_count": null,
   "id": "3fcdcf70-8e04-4efc-ab97-b263d669ed14",
   "metadata": {
    "tags": []
   },
   "outputs": [],
   "source": [
    "fs_cloud.upload('combined64_s3.json', 'rsignellbucket1/jzambon/archive64.json')"
   ]
  },
  {
   "cell_type": "code",
   "execution_count": null,
   "id": "2b9d45b1-77a3-46cc-9eff-e2b32691b1cf",
   "metadata": {},
   "outputs": [],
   "source": [
    "fs_cloud.upload('cnaps.yml', 'rsignellbucket1/jzambon/cnaps.yml')"
   ]
  }
 ],
 "metadata": {
  "kernelspec": {
   "display_name": "global-global-pangeo",
   "language": "python",
   "name": "conda-env-global-global-pangeo-py"
  },
  "language_info": {
   "codemirror_mode": {
    "name": "ipython",
    "version": 3
   },
   "file_extension": ".py",
   "mimetype": "text/x-python",
   "name": "python",
   "nbconvert_exporter": "python",
   "pygments_lexer": "ipython3",
   "version": "3.10.13"
  }
 },
 "nbformat": 4,
 "nbformat_minor": 5
}
