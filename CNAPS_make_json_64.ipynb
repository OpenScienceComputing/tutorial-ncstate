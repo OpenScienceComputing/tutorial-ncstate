{
 "cells": [
  {
   "cell_type": "markdown",
   "id": "5b86af71-052b-4081-844b-779db459068d",
   "metadata": {},
   "source": [
    "# CNAPS RerenceFileSystem JSON  64 bit\n",
    "Create ReferenceFileSystem JSON file for a collection of COAWST NetCDF 3 64 bit files on S3 "
   ]
  },
  {
   "cell_type": "code",
   "execution_count": null,
   "id": "3b6ba617-9772-4ecf-aa7a-2be2a4bcfa1d",
   "metadata": {
    "tags": []
   },
   "outputs": [],
   "source": [
    "import os\n",
    "import fsspec\n",
    "import ujson   # fast json\n",
    "from kerchunk.netCDF3 import NetCDF3ToZarr\n",
    "from kerchunk.combine import MultiZarrToZarr, auto_dask, JustLoad\n",
    "from pathlib import Path\n",
    "import xarray as xr\n",
    "import cf_xarray\n",
    "import dask\n",
    "import hvplot.xarray"
   ]
  },
  {
   "cell_type": "code",
   "execution_count": null,
   "id": "1d1a21f3-9b38-4221-bcab-c118f7917a21",
   "metadata": {
    "tags": []
   },
   "outputs": [],
   "source": [
    "fs_read = fsspec.filesystem('file')"
   ]
  },
  {
   "cell_type": "code",
   "execution_count": null,
   "id": "ab8fba1b-541a-45a3-b091-53fdbed2adf4",
   "metadata": {
    "tags": []
   },
   "outputs": [],
   "source": [
    "nc_list = fs_read.glob('/shared/users/rsignell/data/jzambon/nc64/his_????????.nc')\n",
    "nc_list"
   ]
  },
  {
   "cell_type": "code",
   "execution_count": null,
   "id": "b7734e0e-85d2-4b42-81b6-79acd890b79f",
   "metadata": {
    "tags": []
   },
   "outputs": [],
   "source": [
    "# try opening a file:\n",
    "# xr.open_dataset(fs_read.open(nc_list[0]))    # netCDF4 files can be opened directly from a bucket, but not NetCDF3 files"
   ]
  },
  {
   "cell_type": "code",
   "execution_count": null,
   "id": "2ed12a73-7510-4c06-85dd-0b120c98d24d",
   "metadata": {
    "tags": []
   },
   "outputs": [],
   "source": [
    "print(nc_list[0])\n",
    "print(nc_list[-1])"
   ]
  },
  {
   "cell_type": "code",
   "execution_count": null,
   "id": "37cf61de-7fbc-4b72-a877-40a64062051f",
   "metadata": {
    "tags": []
   },
   "outputs": [],
   "source": [
    "json_dir = '/shared/users/rsignell/data/jzambon/jsons/'"
   ]
  },
  {
   "cell_type": "code",
   "execution_count": null,
   "id": "858055a4-4963-4c49-9203-0e4f2da3c6b3",
   "metadata": {
    "tags": []
   },
   "outputs": [],
   "source": [
    "json_list = fs_read.glob(f'{json_dir}*.json')\n",
    "print(len(json_list))\n",
    "if len(json_list)>0:\n",
    "    print(json_list[0])\n",
    "    print(json_list[-1])"
   ]
  },
  {
   "cell_type": "code",
   "execution_count": null,
   "id": "c107fdf8-b3eb-4944-9075-b7b4ef8e59f9",
   "metadata": {
    "tags": []
   },
   "outputs": [],
   "source": [
    "nc_processed_list = [j.split('.json')[0].replace('/jsons','') for j in json_list]\n",
    "if len(nc_processed_list)>0:\n",
    "    print(nc_processed_list[0])\n",
    "    print(nc_processed_list[-1])"
   ]
  },
  {
   "cell_type": "code",
   "execution_count": null,
   "id": "42d69305-3c28-4228-963e-99ac8775dbbc",
   "metadata": {
    "tags": []
   },
   "outputs": [],
   "source": [
    "nc_process_list = sorted(list(set(nc_list) - set(nc_processed_list)))\n",
    "print(len(nc_process_list))\n",
    "print(nc_process_list[0])\n",
    "print(nc_process_list[-1])"
   ]
  },
  {
   "cell_type": "markdown",
   "id": "a1d79e1a-98b4-4362-ba0c-77b1c86537c4",
   "metadata": {},
   "source": [
    "Generate references in memory, returning a dict"
   ]
  },
  {
   "cell_type": "code",
   "execution_count": null,
   "id": "1cb918bb-7c9e-4bae-8eba-19c49ce3f150",
   "metadata": {
    "tags": []
   },
   "outputs": [],
   "source": [
    "def gen_ref(f):\n",
    "    return NetCDF3ToZarr(f,inline_threshold=300, version=2).translate()"
   ]
  },
  {
   "cell_type": "markdown",
   "id": "b78b38f1-f03c-41b8-a50c-33a24ee37552",
   "metadata": {
    "tags": []
   },
   "source": [
    "Test one file:"
   ]
  },
  {
   "cell_type": "code",
   "execution_count": null,
   "id": "d9458f53-4e5f-4c73-a7d2-ee447dda4cbd",
   "metadata": {
    "tags": []
   },
   "outputs": [],
   "source": [
    "d = gen_ref(nc_process_list[0])"
   ]
  },
  {
   "cell_type": "code",
   "execution_count": null,
   "id": "3422fb36-2940-4b82-a4b1-dc5afabd722b",
   "metadata": {
    "tags": []
   },
   "outputs": [],
   "source": [
    "fs5 = fsspec.filesystem(\"reference\", fo=d,\n",
    "                       skip_instance_cache=True)\n",
    "m = fs5.get_mapper(\"\")"
   ]
  },
  {
   "cell_type": "code",
   "execution_count": null,
   "id": "3ab10a1c-0ff1-4aeb-bc9f-fa68decea7ca",
   "metadata": {
    "tags": []
   },
   "outputs": [],
   "source": [
    "ds = xr.open_dataset(m, engine=\"zarr\", chunks={}, \n",
    "                     backend_kwargs=dict(consolidated=False))"
   ]
  },
  {
   "cell_type": "code",
   "execution_count": null,
   "id": "e7128575-ed75-496f-a18d-7067cb1e57b6",
   "metadata": {
    "tags": []
   },
   "outputs": [],
   "source": [
    "ds"
   ]
  },
  {
   "cell_type": "code",
   "execution_count": null,
   "id": "7bedc6b4-3ded-4627-aa05-44ddb97161b9",
   "metadata": {
    "tags": []
   },
   "outputs": [],
   "source": [
    "#ds.Hwave.hvplot.quadmesh(x='lon_rho', y='lat_rho', rasterize=True, geo=True, cmap='turbo', clim=(0,5))"
   ]
  },
  {
   "cell_type": "markdown",
   "id": "d101115f-cc9f-40a1-85ca-788e298817f1",
   "metadata": {},
   "source": [
    "#### Parallel creation of JSON for each file using Dask Bag"
   ]
  },
  {
   "cell_type": "markdown",
   "id": "ff7e9881-adac-4b6e-a9fd-4ac5a48efe28",
   "metadata": {},
   "source": [
    "Use local cluster as files are local -- Dask Gateway workers can't see local filesystem"
   ]
  },
  {
   "cell_type": "code",
   "execution_count": null,
   "id": "dbe13d30-b301-4cce-b6e6-022c0494b258",
   "metadata": {
    "tags": []
   },
   "outputs": [],
   "source": [
    "from dask.distributed import Client"
   ]
  },
  {
   "cell_type": "code",
   "execution_count": null,
   "id": "49771285-47b7-409f-8094-29b72408493d",
   "metadata": {
    "tags": []
   },
   "outputs": [],
   "source": [
    "client = Client()"
   ]
  },
  {
   "cell_type": "code",
   "execution_count": null,
   "id": "1fca9cf5-b8b4-4fed-ba0f-7f952f2680ed",
   "metadata": {
    "tags": []
   },
   "outputs": [],
   "source": [
    "client"
   ]
  },
  {
   "cell_type": "code",
   "execution_count": null,
   "id": "60291b8e-ea16-4334-ac45-0f0836a59271",
   "metadata": {
    "tags": []
   },
   "outputs": [],
   "source": [
    "nc_process_list"
   ]
  },
  {
   "cell_type": "code",
   "execution_count": null,
   "id": "fc2c79b4-48bb-4937-8653-0884e53400ed",
   "metadata": {
    "tags": []
   },
   "outputs": [],
   "source": [
    "import dask.bag as db\n",
    "from dask.distributed import progress\n",
    "bag = db.from_sequence(nc_process_list, npartitions=4).map(gen_ref)"
   ]
  },
  {
   "cell_type": "code",
   "execution_count": null,
   "id": "559509f1-8de0-4f91-babe-4f51423c92c8",
   "metadata": {
    "tags": []
   },
   "outputs": [],
   "source": [
    "bag.visualize()"
   ]
  },
  {
   "cell_type": "code",
   "execution_count": null,
   "id": "3debcfcb-44f7-406d-a0cd-fc06d64bbbe3",
   "metadata": {
    "tags": []
   },
   "outputs": [],
   "source": [
    "bag = bag.persist()\n",
    "progress(bag)"
   ]
  },
  {
   "cell_type": "code",
   "execution_count": null,
   "id": "2e733d86-9e08-441d-a1e1-5f7dd8dda386",
   "metadata": {
    "tags": []
   },
   "outputs": [],
   "source": [
    "dicts = bag.compute()"
   ]
  },
  {
   "cell_type": "code",
   "execution_count": null,
   "id": "e35cefea-7d02-44f5-aa1f-a26d4e607be6",
   "metadata": {
    "tags": []
   },
   "outputs": [],
   "source": [
    "import zarr\n",
    "\n",
    "def modify_fill_value(out):\n",
    "    out_ = zarr.open(out)\n",
    "    out_.lon.fill_value = -999\n",
    "    out_.lat.fill_value = -999\n",
    "    return out\n",
    "\n",
    "def modify_metadata(out):\n",
    "    g = zarr.open(out)    \n",
    "    for n, v in g.arrays():\n",
    "        if len(v.shape)>1:\n",
    "            if v.dtype == '>f4':\n",
    "                g[n].fill_value = 1.0e+37\n",
    "    g.ocean_time.attrs['standard_name'] = 'time'\n",
    "    return out\n",
    "    \n",
    "def postprocess(out):\n",
    "    out = modify_metadata(out)\n",
    "    return out"
   ]
  },
  {
   "cell_type": "code",
   "execution_count": null,
   "id": "df13be9b-d569-4fa4-96f8-2cc4fb63bf8d",
   "metadata": {
    "tags": []
   },
   "outputs": [],
   "source": [
    "mzz = MultiZarrToZarr(\n",
    "    dicts,\n",
    "    concat_dims='ocean_time',\n",
    "    inline_threshold=500,\n",
    "    identical_dims=['lat_psi','lat_rho','lat_u','lat_v',\n",
    "                    'lon_psi','lon_rho','lon_u','lon_v'],\n",
    "    postprocess=postprocess   \n",
    ")"
   ]
  },
  {
   "cell_type": "code",
   "execution_count": null,
   "id": "26da85f0-3dea-4c15-abaa-1db6e1a02151",
   "metadata": {
    "tags": []
   },
   "outputs": [],
   "source": [
    "%time mzz.translate('./combined64.json')"
   ]
  },
  {
   "cell_type": "markdown",
   "id": "5ba64f09-5cd2-4057-bac9-653705c384e9",
   "metadata": {},
   "source": [
    "Examine the resulting dataset"
   ]
  },
  {
   "cell_type": "code",
   "execution_count": null,
   "id": "d6331ade-d868-4702-9695-d594db9948a6",
   "metadata": {
    "tags": []
   },
   "outputs": [],
   "source": [
    "fs5 = fsspec.filesystem(\"reference\", fo='combined64.json',\n",
    "                       skip_instance_cache=True)\n",
    "m = fs5.get_mapper(\"\")"
   ]
  },
  {
   "cell_type": "code",
   "execution_count": null,
   "id": "59ee6076-2e06-4af5-8254-2697943286a9",
   "metadata": {
    "tags": []
   },
   "outputs": [],
   "source": [
    "ds = xr.open_dataset(m, engine=\"zarr\", chunks={}, \n",
    "                     backend_kwargs=dict(consolidated=False))"
   ]
  },
  {
   "cell_type": "code",
   "execution_count": null,
   "id": "541467bf-a363-4b94-8377-a4286529cd8d",
   "metadata": {
    "tags": []
   },
   "outputs": [],
   "source": [
    "ds"
   ]
  },
  {
   "cell_type": "code",
   "execution_count": null,
   "id": "ea26d8c0-7a6b-4000-b2fd-79bd1b49f197",
   "metadata": {
    "tags": []
   },
   "outputs": [],
   "source": [
    "ds['Hwave'][:,200,200].hvplot(x='ocean_time', grid=True)"
   ]
  },
  {
   "cell_type": "code",
   "execution_count": null,
   "id": "a5d0c307-1505-4a56-b248-7b8722fde9ef",
   "metadata": {
    "tags": []
   },
   "outputs": [],
   "source": [
    "ds['Hwave'][0,:,:].plot()"
   ]
  },
  {
   "cell_type": "code",
   "execution_count": null,
   "id": "5d3c7d11-8878-401b-a5c3-309f60d1de87",
   "metadata": {
    "tags": []
   },
   "outputs": [],
   "source": [
    "client.close()"
   ]
  }
 ],
 "metadata": {
  "kernelspec": {
   "display_name": "global-global-pangeo",
   "language": "python",
   "name": "conda-env-global-global-pangeo-py"
  },
  "language_info": {
   "codemirror_mode": {
    "name": "ipython",
    "version": 3
   },
   "file_extension": ".py",
   "mimetype": "text/x-python",
   "name": "python",
   "nbconvert_exporter": "python",
   "pygments_lexer": "ipython3",
   "version": "3.10.13"
  }
 },
 "nbformat": 4,
 "nbformat_minor": 5
}
